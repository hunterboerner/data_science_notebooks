{
 "metadata": {
  "name": "",
  "signature": "sha256:f8483cc21da19774e48de26cd3c5b799f13ee0568607098c248649f54ab41c0b"
 },
 "nbformat": 3,
 "nbformat_minor": 0,
 "worksheets": [
  {
   "cells": [
    {
     "cell_type": "markdown",
     "metadata": {},
     "source": [
      "## Create data set"
     ]
    },
    {
     "cell_type": "code",
     "collapsed": false,
     "input": [
      "%matplotlib inline\n",
      "import matplotlib.pyplot as plt\n",
      "import numpy as np\n",
      "from sklearn.datasets.samples_generator import make_regression\n",
      "\n",
      "# Create Regression Data set\n",
      "X, Yactual = make_regression( n_samples=80, n_features=1, n_informative=1,random_state=0, noise=30) \n",
      "plt.scatter(X,Yactual)\n",
      "plt.xlabel('X')\n",
      "plt.ylabel('Yactual')"
     ],
     "language": "python",
     "metadata": {},
     "outputs": [
      {
       "metadata": {},
       "output_type": "pyout",
       "prompt_number": 49,
       "text": [
        "<matplotlib.text.Text at 0x10aa7f290>"
       ]
      },
      {
       "metadata": {},
       "output_type": "display_data",
       "png": "[encoded data removed]",
       "text": [
        "<matplotlib.figure.Figure at 0x10aa3ba10>"
       ]
      }
     ],
     "prompt_number": 49
    },
    {
     "cell_type": "code",
     "collapsed": false,
     "input": [
      "# Add a column of ones to features for constant term.\n",
      "features = np.concatenate((np.ones((X.shape[0], 1)), X), axis=1)"
     ],
     "language": "python",
     "metadata": {},
     "outputs": [],
     "prompt_number": 50
    },
    {
     "cell_type": "code",
     "collapsed": false,
     "input": [
      "def initializeTheta(features):\n",
      "    m, n = features.shape\n",
      "    return(np.zeros(n))"
     ],
     "language": "python",
     "metadata": {},
     "outputs": [],
     "prompt_number": 51
    },
    {
     "cell_type": "code",
     "collapsed": false,
     "input": [
      "def predict(features,theta):\n",
      "    return(np.dot(features, theta))"
     ],
     "language": "python",
     "metadata": {},
     "outputs": [],
     "prompt_number": 52
    },
    {
     "cell_type": "code",
     "collapsed": false,
     "input": [
      "def calculate_gradient(features,Yactual,theta):\n",
      "    m = len(Yactual)\n",
      "    error = predict(features,theta) - Yactual\n",
      "    return (np.dot(features.T, error)/m)"
     ],
     "language": "python",
     "metadata": {},
     "outputs": [],
     "prompt_number": 53
    },
    {
     "cell_type": "code",
     "collapsed": false,
     "input": [
      "def compute_cost(features,Yactual,theta):\n",
      "    m = len(Yactual)\n",
      "    sose = np.square(predict(features, theta) - Yactual).sum()\n",
      "    cost = sose / (2 * m)\n",
      "    return cost"
     ],
     "language": "python",
     "metadata": {},
     "outputs": [],
     "prompt_number": 54
    },
    {
     "cell_type": "code",
     "collapsed": false,
     "input": [
      "# Write some code here that updates the values of theta a number of times equal to\n",
      "# num_iterations.  Everytime you have computed the cost for a given set of thetas,\n",
      "# you should append it to cost_history.  The function should return both the final\n",
      "# values of theta and the cost history.\n",
      "def compute_gradient_descent(features, Yactual, theta, alpha, num_iterations):\n",
      "    \n",
      "    cost_history = []\n",
      "    \n",
      "    for i in range(num_iterations):\n",
      "        theta -= alpha * calculate_gradient(features, Yactual, theta)\n",
      "        J = compute_cost(features, Yactual, theta)\n",
      "        cost_history.append(J)\n",
      "        \n",
      "    return theta, cost_history"
     ],
     "language": "python",
     "metadata": {},
     "outputs": [],
     "prompt_number": 55
    },
    {
     "cell_type": "code",
     "collapsed": false,
     "input": [
      "# Run gradient descent algorithm for linear regression\n",
      "num_iterations = 100\n",
      "alpha = 0.1\n",
      "theta = initializeTheta(features) \n",
      "\n",
      "finalTheta,cost_history = compute_gradient_descent(features,Yactual,theta,alpha,num_iterations)"
     ],
     "language": "python",
     "metadata": {},
     "outputs": [],
     "prompt_number": 63
    },
    {
     "cell_type": "code",
     "collapsed": false,
     "input": [
      "# Plot cost history\n",
      "plt.plot(cost_history)\n",
      "plt.xlabel('iteration')\n",
      "plt.ylabel('cost')"
     ],
     "language": "python",
     "metadata": {},
     "outputs": [
      {
       "metadata": {},
       "output_type": "pyout",
       "prompt_number": 64,
       "text": [
        "<matplotlib.text.Text at 0x10c15a610>"
       ]
      },
      {
       "metadata": {},
       "output_type": "display_data",
       "png": "[encoded data removed]",
       "text": [
        "<matplotlib.figure.Figure at 0x10c24db90>"
       ]
      }
     ],
     "prompt_number": 64
    },
    {
     "cell_type": "code",
     "collapsed": false,
     "input": [
      "# Plot results\n",
      "plt.scatter(X,Yactual)\n",
      "\n",
      "# Overlay Predictive Model\n",
      "Ypred = predict(features,finalTheta)\n",
      "plt.plot(X,Ypred,c='red')"
     ],
     "language": "python",
     "metadata": {},
     "outputs": [
      {
       "metadata": {},
       "output_type": "pyout",
       "prompt_number": 65,
       "text": [
        "[<matplotlib.lines.Line2D at 0x10c36bb50>]"
       ]
      },
      {
       "metadata": {},
       "output_type": "display_data",
       "png": "[encoded data removed]",
       "text": [
        "<matplotlib.figure.Figure at 0x10c36b950>"
       ]
      }
     ],
     "prompt_number": 65
    },
    {
     "cell_type": "code",
     "collapsed": false,
     "input": [],
     "language": "python",
     "metadata": {},
     "outputs": [],
     "prompt_number": 58
    }
   ],
   "metadata": {}
  }
 ]
}