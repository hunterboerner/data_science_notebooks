{
 "metadata": {
  "name": "",
  "signature": "sha256:71c03f8f948b6603b4b531620dee1085ae715d29efcc51c6c2669beccb19d7fc"
 },
 "nbformat": 3,
 "nbformat_minor": 0,
 "worksheets": [
  {
   "cells": [
    {
     "cell_type": "markdown",
     "metadata": {},
     "source": [
      "# Genetic Algorithm (Example)\n",
      "**Problem Statement**\n",
      "Family members from different places in the country wish to meet up in New York.\n",
      "They will arrive on the same day and leave on the same day, and they would like to share transportation to and from the airport.  There are dozens of flights per day to NY from any of the family members locations, all leaving at different times.  The flights also vary in price and duration.\n",
      "\n",
      "*Example taken from: \"Building Smart Web 2.0 Applications: Programming Collective Intelligence\" by Toby Segran*"
     ]
    },
    {
     "cell_type": "code",
     "collapsed": false,
     "input": [
      "import collections\n",
      "import time\n",
      "import random\n",
      "import math\n",
      "import matplotlib.pyplot as plt\n",
      "\n",
      "%matplotlib inline"
     ],
     "language": "python",
     "metadata": {},
     "outputs": [],
     "prompt_number": 1
    },
    {
     "cell_type": "markdown",
     "metadata": {},
     "source": [
      "## The Family"
     ]
    },
    {
     "cell_type": "code",
     "collapsed": false,
     "input": [
      "# Family members and their point of origin\n",
      "people = [\n",
      "      ('Seymour', 'BOS'),\n",
      "      ('Franny', 'DAL'),\n",
      "      ('Zooey', 'CAK'),\n",
      "      ('Walt', 'MIA'),\n",
      "      ('Buddy', 'ORD'),\n",
      "      ('Les', 'OMA'),\n",
      "      ]\n",
      "\n",
      "# Destination\n",
      "destination = 'LGA'  # LaGuardia (New York)"
     ],
     "language": "python",
     "metadata": {},
     "outputs": [],
     "prompt_number": 2
    },
    {
     "cell_type": "markdown",
     "metadata": {},
     "source": [
      "## Function to extract flight data\n",
      "Data is placed into a dictionary where the keys = (origin,destination) and values are flight details.  "
     ]
    },
    {
     "cell_type": "code",
     "collapsed": false,
     "input": [
      "# Get Flight information\n",
      "def parseCsv(lines):\n",
      "  flights = collections.defaultdict(list)\n",
      "  for line in lines:\n",
      "    origin, dest, depart, arrive, price = line.strip().split(',')\n",
      "    \n",
      "    #Add details to the list of possible flights\n",
      "    flights[(origin, dest)].append( (depart, arrive, int(price)) )\n",
      "  return flights"
     ],
     "language": "python",
     "metadata": {},
     "outputs": [],
     "prompt_number": 3
    },
    {
     "cell_type": "markdown",
     "metadata": {},
     "source": [
      "## Flight Data"
     ]
    },
    {
     "cell_type": "code",
     "collapsed": false,
     "input": [
      "# Information about possible flights that can be taken\n",
      "# \"schedule.txt\" contains, comma-separated, information about origin, destination, departure time, arrival time, and price.\n",
      "flights = parseCsv(open('schedule.txt'))"
     ],
     "language": "python",
     "metadata": {},
     "outputs": [],
     "prompt_number": 4
    },
    {
     "cell_type": "markdown",
     "metadata": {},
     "source": [
      "## Utility Functions"
     ]
    },
    {
     "cell_type": "code",
     "collapsed": false,
     "input": [
      "# Utility function to calculate how many minutes, into a day, a time is.\n",
      "# This will be used to calculate flight times and waiting times\n",
      "def getminutes(t):\n",
      "    x = time.strptime(t,'%H:%M')\n",
      "    return x[3]*60+x[4]"
     ],
     "language": "python",
     "metadata": {},
     "outputs": [],
     "prompt_number": 5
    },
    {
     "cell_type": "code",
     "collapsed": false,
     "input": [
      "# This function takes the solution (list of numbers) and prints out a schedule that is easier to interpret.\n",
      "# This function prints each persons name and origin, as well as the depature time, arrival time, and \n",
      "# price for outgoing and return flights.\n",
      "def printschedule(r,dest):\n",
      "  for d in range(len(r)/2):\n",
      "    name = people[d][0]\n",
      "    origin = people[d][1]\n",
      "    out = flights[(origin, dest)][r[d]]\n",
      "    ret = flights[(origin, dest)][r[d + 1]]\n",
      "    print '%10s%10s %5s-%5s $%3s %5s-%5s $%3s' % (\n",
      "        name, origin, out[0], out[1], out[2], ret[0], ret[1], ret[2])\n",
      "\n"
     ],
     "language": "python",
     "metadata": {},
     "outputs": [],
     "prompt_number": 6
    },
    {
     "cell_type": "markdown",
     "metadata": {},
     "source": [
      "We will be representing the solution as a list of numbers:\n",
      "The number represents a flight a person chooses to take (e.g., 0=first flight of day, 1=second flight of day, etc.).  \n",
      "\n",
      "Note: Since each person needs to take an inbound and outbound flight, the lenegth of the list is twice the number of people.  "
     ]
    },
    {
     "cell_type": "code",
     "collapsed": false,
     "input": [
      "# Example\n",
      "s = [1,4,3,2,7,3,6,3,2,4,5,3]\n",
      "printschedule(s,'LGA')"
     ],
     "language": "python",
     "metadata": {},
     "outputs": [
      {
       "output_type": "stream",
       "stream": "stdout",
       "text": [
        "   Seymour       BOS  8:04-10:11 $ 95 12:34-15:02 $109\n",
        "    Franny       DAL 12:19-15:25 $342 10:30-14:57 $290\n",
        "     Zooey       CAK 10:53-13:36 $189  9:15-12:14 $247\n",
        "      Walt       MIA  9:15-12:29 $225 17:07-20:04 $291\n",
        "     Buddy       ORD 16:43-19:00 $246 11:01-12:39 $260\n",
        "       Les       OMA 11:08-13:07 $175 15:03-16:42 $135\n"
       ]
      }
     ],
     "prompt_number": 7
    },
    {
     "cell_type": "markdown",
     "metadata": {},
     "source": [
      "## Cost Function\n",
      "The cost function is what is going to help you optimize.  The goal is to find a set of inputs (in this case flights) that minimizes the cost function.\n",
      "\n",
      "Here cost = total price + total wait"
     ]
    },
    {
     "cell_type": "code",
     "collapsed": false,
     "input": [
      "# This function takes into account the total trip and the total time spent waiting at the\n",
      "# airport for the various members of the family.\n",
      "#\n",
      "# The logic is that total wait time assumes that all the family members will leave the airport\n",
      "# together when the last person arrives, and will all go to the airport for the earliest \n",
      "# departure.\n",
      "#\n",
      "# The goal is to minimize the cost by choosing the correct set of numbers.\n",
      "def costfunc(flights, dest):\n",
      "  def schedulecost(sol):\n",
      "    totalprice = 0\n",
      "    latestarrival = 0\n",
      "    earliestdep = 24*60\n",
      "\n",
      "    for d in range(len(sol) / 2):\n",
      "      origin = people[d][1]\n",
      "      outbound = flights[(origin, dest)][int(sol[d])]\n",
      "      returnf = flights[(dest, origin)][int(sol[d+1])]\n",
      "\n",
      "      totalprice += outbound[2] + returnf[2]\n",
      "\n",
      "      # Track the latest arrival and earliest departure \n",
      "      latestarrival = max(latestarrival, getminutes(outbound[1]))\n",
      "      earliestdep = min(latestarrival, getminutes(returnf[0]))\n",
      "\n",
      "    # Every person must wait until the last person arrives.\n",
      "    # They must also arrive when the first flight leaves\n",
      "    totalwait = 0\n",
      "    for d in range(len(sol)/2):\n",
      "      origin = people[d][1]\n",
      "      outbound = flights[(origin, dest)][int(sol[d])]\n",
      "      returnf = flights[(dest, origin)][int(sol[d+1])]\n",
      "      totalwait += latestarrival - getminutes(outbound[1])\n",
      "      totalwait += getminutes(returnf[0]) - earliestdep\n",
      "\n",
      "    # One additional day of car rental fees?\n",
      "    if latestarrival >= earliestdep: totalprice += 50\n",
      "\n",
      "    return totalprice + totalwait\n",
      "  return schedulecost"
     ],
     "language": "python",
     "metadata": {},
     "outputs": [],
     "prompt_number": 8
    },
    {
     "cell_type": "code",
     "collapsed": false,
     "input": [
      "def geneticoptimize(population,costf, popsize=50, step=1,\n",
      "    mutprob=0.2, elite=0.2, maxiter=100):\n",
      "  \n",
      "  # Make a small, simple random change to an existing solution  \n",
      "  def mutate(vec):\n",
      " \n",
      "    # Get a random integer      \n",
      "    i = random.randint(0, len(population)-1)\n",
      " \n",
      "    if random.random() < 0.5:\n",
      "      # Decreasing value  \n",
      "      return vec[0:i] + [vec[i] - step] + vec[i+1:]\n",
      "    else:\n",
      "      # Increasing value  \n",
      "      return vec[0:i] + [vec[i] + step] + vec[i+1:]\n",
      "    return vec\n",
      "\n",
      "  def crossover(r1, r2):\n",
      "    i = random.randint(1, len(population)-2)\n",
      "    return r1[0:i] + r2[i:]\n",
      "\n",
      "  # Starting population\n",
      "  pop = [[random.randint(population[j][0],population[j][1])\n",
      "    for j in range(len(population))]\n",
      "    for i in range(popsize)]\n",
      "\n",
      "  # This is the number of winners we want from each generation \n",
      "  topelite = int(elite*popsize)\n",
      "  \n",
      "  # Variable to hold cost history\n",
      "  costhistory = [None]*maxiter\n",
      "\n",
      "  for i in range(maxiter):\n",
      "    \n",
      "    # Sort the population by cost\n",
      "    ranked = sorted(pop, key=costf)\n",
      "\n",
      "    # add winners\n",
      "    pop = ranked[0:topelite]\n",
      "        \n",
      "    # add mutated and bred forms of the winners\n",
      "    while len(pop) < popsize:\n",
      "      if random.random() < mutprob:\n",
      "        # Randomly pick a winner and mutate    \n",
      "        newIndividual = mutate(ranked[random.randint(0, topelite-1)])\n",
      "      else:\n",
      "        # Randomly pick 2 winners and perform a cross-over    \n",
      "        newIndividual = crossover(ranked[random.randint(0, topelite-1)],ranked[random.randint(0, topelite-1)])\n",
      "      \n",
      "      pop.append(newIndividual)\n",
      "\n",
      "    # Print current best score\n",
      "    costhistory[i] = costf(ranked[0])\n",
      "\n",
      "  plt.plot(costhistory)\n",
      "  plt.xlabel('Iteration Number')\n",
      "  plt.ylabel('Cost')\n",
      "    \n",
      "  # Return current best guy\n",
      "  return ranked[0]# Random solutions\n"
     ],
     "language": "python",
     "metadata": {},
     "outputs": [],
     "prompt_number": 9
    },
    {
     "cell_type": "markdown",
     "metadata": {},
     "source": [
      "## Run optimization"
     ]
    },
    {
     "cell_type": "code",
     "collapsed": false,
     "input": [
      "# Cost function that will be used to find \"best\" solution\n",
      "f = costfunc(flights, destination)\n",
      "\n",
      "# Initial Population\n",
      "population = [(0, 8)] * (len(people) * 2)\n",
      "\n",
      "# Run genetic algorithm\n",
      "r = geneticoptimize(population, f)\n",
      "\n",
      "# Print final schedule and cost\n",
      "printschedule(r, destination)\n",
      "print 'Final Cost = ' + str(f(r))"
     ],
     "language": "python",
     "metadata": {},
     "outputs": [
      {
       "output_type": "stream",
       "stream": "stdout",
       "text": [
        "   Seymour       BOS 17:11-18:30 $108  6:17- 8:26 $ 89\n",
        "    Franny       DAL  6:12-10:22 $230 10:30-14:57 $290\n",
        "     Zooey       CAK 10:53-13:36 $189 13:40-15:38 $137\n",
        "      Walt       MIA 14:01-17:24 $338  7:34- 9:40 $324\n",
        "     Buddy       ORD  8:25-10:34 $157  9:42-11:32 $169\n",
        "       Les       OMA  9:15-12:03 $ 99 18:12-20:17 $242\n",
        "Final Cost = 1282\n"
       ]
      },
      {
       "metadata": {},
       "output_type": "display_data",
       "png": "[encoded data removed]",
       "text": [
        "<matplotlib.figure.Figure at 0x103a6f390>"
       ]
      }
     ],
     "prompt_number": 10
    },
    {
     "cell_type": "code",
     "collapsed": false,
     "input": [],
     "language": "python",
     "metadata": {},
     "outputs": [],
     "prompt_number": 10
    },
    {
     "cell_type": "code",
     "collapsed": false,
     "input": [],
     "language": "python",
     "metadata": {},
     "outputs": [],
     "prompt_number": 10
    }
   ],
   "metadata": {}
  }
 ]
}