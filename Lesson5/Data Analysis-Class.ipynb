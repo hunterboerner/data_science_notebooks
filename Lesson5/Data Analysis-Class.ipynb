{
 "metadata": {
  "name": "",
  "signature": "sha256:a8005bb371a391b2f785e0056db3734d0004822ceba41a6362f11a6f03826027"
 },
 "nbformat": 3,
 "nbformat_minor": 0,
 "worksheets": [
  {
   "cells": [
    {
     "cell_type": "markdown",
     "metadata": {},
     "source": [
      "# Normal Distribution\n",
      "\n",
      "$\\mathbf{GAUSSIAN (NORMAL)}$:\n",
      "$P(x;\\mu,\\sigma)=\\displaystyle \\frac{1}{\\sqrt{2 \\pi \\sigma^2}} \\exp{\\displaystyle \\left( -\\frac{(x-\\mu)^2}{2 \\sigma^2} \\right) },\n",
      "\\hspace{1in} x \\in [-\\infty;\\infty]$\n",
      "\n",
      "* mean=$\\mu$, standard deviation=$\\sigma$, variance=$\\sigma^2$\n",
      "\n",
      "Standard Deviations\n",
      "1. 68% Data within 1$\\sigma$\n",
      "2. 95% Data within 2$\\sigma$\n",
      "3. 99.7% Data within 3$\\sigma$\n",
      "\n",
      "<img src=\"normal-distrubution-3sds.gif\">"
     ]
    },
    {
     "cell_type": "markdown",
     "metadata": {},
     "source": [
      "## Excercise 1\n",
      "Plot the gaussian distribution with the following characteristics\n",
      "1. mean = 0, standard deviation = 1\n",
      "2. mean = 0, standard deviation = 3\n",
      "3. mean = 5, standard deviation = 1\n",
      "4. mean = 5, standard deviation = 10"
     ]
    },
    {
     "cell_type": "code",
     "collapsed": false,
     "input": [
      "import numpy as np\n",
      "import scipy.stats as stats\n",
      "import matplotlib.pyplot as plt\n",
      "%matplotlib inline\n",
      "\n",
      "#u -> mean\n",
      "#s -> standard deviation\n",
      "x=np.arange(-20,20,0.1)\n",
      "\n",
      "###############\n",
      "# Excercise 1.1\n",
      "###############\n",
      "plt.subplot(1,2,1)\n",
      "u = 0\n",
      "s = 1\n",
      "\n",
      "###############\n",
      "# Excercise 1.2\n",
      "###############\n",
      "u = 0\n",
      "s = 5\n",
      "\n",
      "###############\n",
      "# Excercise 1.3\n",
      "###############\n",
      "plt.subplot(1,2,2)\n",
      "u = 5\n",
      "s = 1\n",
      "\n",
      "###############\n",
      "# Excercise 1.4\n",
      "###############\n",
      "u = 5\n",
      "s = 5"
     ],
     "language": "python",
     "metadata": {},
     "outputs": [
      {
       "metadata": {},
       "output_type": "pyout",
       "prompt_number": 18,
       "text": [
        "[<matplotlib.lines.Line2D at 0x107ec1f90>]"
       ]
      },
      {
       "metadata": {},
       "output_type": "display_data",
       "png": "[encoded data removed]",
       "text": [
        "<matplotlib.figure.Figure at 0x107ea6f90>"
       ]
      }
     ],
     "prompt_number": 18
    },
    {
     "cell_type": "markdown",
     "metadata": {},
     "source": [
      "# Number of Trials\n",
      "> Take the mean of $n$ random samples from ANY arbitrary distribution with a well defined standard deviation $\\sigma$ and mean $\\mu$. As $n$ gets bigger the distribution of the sample mean will always converge to a Gaussian (normal) distribution with mean $\\mu$ and standard deviation $\\sigma/\\sqrt{n}$.\n",
      "\n",
      "Basically, the theorem states that the average (or sum) of a set of random measurements will tend to a bell-shaped curve no matter the shape of the original meaurement distribution. This explains the ubiquity of the Gaussian distribution in science and statistics.\n"
     ]
    },
    {
     "cell_type": "code",
     "collapsed": false,
     "input": [
      "import pandas\n",
      "import pandasql\n",
      "\n",
      "# Read in our aadhaar_data csv to a pandas dataframe and print the average age of participants \n",
      "aadhaar_data = pandas.read_csv('aadhaar_data.csv')\n",
      "aadhaar_data.rename(columns = lambda x: x.replace(' ', '_').lower(), inplace=True)\n"
     ],
     "language": "python",
     "metadata": {},
     "outputs": [],
     "prompt_number": 21
    },
    {
     "cell_type": "code",
     "collapsed": false,
     "input": [
      "nTrials = 10\n",
      "nSamples = 100 \n",
      "sampleArray = np.empty(nTrials)\n",
      "ageData = aadhaar_data['age']\n",
      "\n",
      "for trial in range(nTrials):\n",
      "    p = np.random.permutation(ageData.size)\n",
      "    mn = np.mean(ageData[p[:nSamples]])\n",
      "    sampleArray[trial]= mn\n",
      "   \n",
      "plt.subplot(2,2,1)\n",
      "plt.hist(sampleArray,bins = 30)\n",
      "plt.title('Trials = 10')\n",
      "plt.xlim([20,40])\n",
      "\n",
      "\n",
      "nTrials = 50\n",
      "sampleArray = np.empty(nTrials)\n",
      "ageData = aadhaar_data['age']\n",
      "\n",
      "for trial in range(nTrials):\n",
      "    p = np.random.permutation(ageData.size)\n",
      "    mn = np.mean(ageData[p[:nSamples]])\n",
      "    sampleArray[trial]= mn\n",
      "   \n",
      "plt.subplot(2,2,2)\n",
      "plt.hist(sampleArray,bins = 30)\n",
      "plt.title('Trials = 50')\n",
      "plt.xlim([20,40])\n",
      "\n",
      "\n",
      "nTrials = 100\n",
      "sampleArray = np.empty(nTrials)\n",
      "ageData = aadhaar_data['age']\n",
      "\n",
      "for trial in range(nTrials):\n",
      "    p = np.random.permutation(ageData.size)\n",
      "    mn = np.mean(ageData[p[:nSamples]])\n",
      "    sampleArray[trial]= mn\n",
      "   \n",
      "plt.subplot(2,2,3)\n",
      "plt.hist(sampleArray,bins = 30)\n",
      "plt.title('Trials = 100')\n",
      "plt.xlim([20,40])\n",
      "\n",
      "\n",
      "nTrials = 500\n",
      "sampleArray = np.empty(nTrials)\n",
      "ageData = aadhaar_data['age']\n",
      "\n",
      "for trial in range(nTrials):\n",
      "    p = np.random.permutation(ageData.size)\n",
      "    mn = np.mean(ageData[p[:nSamples]])\n",
      "    sampleArray[trial]= mn\n",
      "   \n",
      "plt.subplot(2,2,4)\n",
      "plt.hist(sampleArray,bins = 30)\n",
      "plt.title('Trials = 500')\n",
      "plt.xlim([20,40])\n"
     ],
     "language": "python",
     "metadata": {},
     "outputs": [
      {
       "metadata": {},
       "output_type": "pyout",
       "prompt_number": 22,
       "text": [
        "(20, 40)"
       ]
      },
      {
       "metadata": {},
       "output_type": "display_data",
       "png": "[encoded data removed]",
       "text": [
        "<matplotlib.figure.Figure at 0x10ad4cdd0>"
       ]
      }
     ],
     "prompt_number": 22
    },
    {
     "cell_type": "markdown",
     "metadata": {},
     "source": [
      "# Population Size\n",
      "The statistic we measure varies depending on:\n",
      "1. The subset of the population we choose (how representative it is of the true population)\n",
      "2. The sample size"
     ]
    },
    {
     "cell_type": "code",
     "collapsed": false,
     "input": [
      "nTrials = 100\n",
      "\n",
      "################\n",
      "# Samples = 100\n",
      "################\n",
      "nSamples = 100 \n",
      "sampleArray = np.empty(nTrials)\n",
      "ageData = aadhaar_data['age']\n",
      "\n",
      "for trial in range(nTrials):\n",
      "    p = np.random.permutation(ageData.size)\n",
      "    mn = np.mean(ageData[p[:nSamples]])\n",
      "    sampleArray[trial]= mn\n",
      "   \n",
      "plt.subplot(2,2,1)\n",
      "plt.hist(sampleArray,bins = 30)\n",
      "plt.title('nSamples = 100')\n",
      "plt.xlim([20,40])\n",
      "\n",
      "###############\n",
      "# Samples = 500\n",
      "###############\n",
      "nSamples = 500 \n",
      "sampleArray = np.empty(nTrials)\n",
      "ageData = aadhaar_data['age']\n",
      "\n",
      "for trial in range(nTrials):\n",
      "    p = np.random.permutation(ageData.size)\n",
      "    mn = np.mean(ageData[p[:nSamples]])\n",
      "    sampleArray[trial]= mn\n",
      "   \n",
      "plt.subplot(2,2,2)\n",
      "plt.hist(sampleArray,bins = 30)\n",
      "plt.title('nSamples = 500')\n",
      "plt.xlim([20,40])\n",
      "\n",
      "################\n",
      "# Samples = 1000\n",
      "################\n",
      "nSamples = 1000 \n",
      "sampleArray = np.empty(nTrials)\n",
      "ageData = aadhaar_data['age']\n",
      "\n",
      "for trial in range(nTrials):\n",
      "    p = np.random.permutation(ageData.size)\n",
      "    mn = np.mean(ageData[p[:nSamples]])\n",
      "    sampleArray[trial]= mn\n",
      "   \n",
      "plt.subplot(2,2,3)\n",
      "plt.hist(sampleArray,bins = 30)\n",
      "plt.title('nSamples = 1000')\n",
      "plt.xlim([20,40])\n",
      "\n",
      "################\n",
      "# Samples = 2000\n",
      "################\n",
      "nSamples = 2000 \n",
      "sampleArray = np.empty(nTrials)\n",
      "ageData = aadhaar_data['age']\n",
      "\n",
      "for trial in range(nTrials):\n",
      "    p = np.random.permutation(ageData.size)\n",
      "    mn = np.mean(ageData[p[:nSamples]])\n",
      "    sampleArray[trial]= mn\n",
      "   \n",
      "plt.subplot(2,2,4)\n",
      "plt.hist(sampleArray,bins = 30)\n",
      "plt.title('nSamples = 2000')\n",
      "plt.xlim([20,40])"
     ],
     "language": "python",
     "metadata": {},
     "outputs": [
      {
       "metadata": {},
       "output_type": "pyout",
       "prompt_number": 4,
       "text": [
        "(20, 40)"
       ]
      },
      {
       "metadata": {},
       "output_type": "display_data",
       "png": "[encoded data removed]",
       "text": [
        "<matplotlib.figure.Figure at 0x10ecf0d90>"
       ]
      }
     ],
     "prompt_number": 4
    },
    {
     "cell_type": "markdown",
     "metadata": {},
     "source": [
      "# Significance Testing (pCritical = 0.5)\n",
      "\n",
      "1. Two-sided/Two-tailed significance:\n",
      "If you are using a significance level of 0.05, a two-tailed test allots half of your pCritical (alpha) to testing the statistical significance in one direction and half of your alpha to testing statistical significance in the other direction.  This means that .025 is in each tail of the distribution of your test statistic.\n",
      "\n",
      "![twoSidedTest](\"twoSidedTest.gif\")\n",
      "\n",
      "2. One-sided/One-tailed significance:\n",
      "If you are using a significance level of .05, a one-tailed test allots all of your pCritical (alpha) to testing the statistical significance in the one direction of interest.  This means that .05 is in one tail of the distribution of your test statistic.\n",
      "<img src=\"oneSidedTest_a.gif\">\n",
      "<img src=\"oneSidedTest_b.gif\">"
     ]
    },
    {
     "cell_type": "markdown",
     "metadata": {},
     "source": [
      "## Exercise 1: Two-sided signifcance test (left and right handed batting averages)"
     ]
    },
    {
     "cell_type": "code",
     "collapsed": false,
     "input": [
      "import numpy as np\n",
      "import scipy.stats as stats\n",
      "import pandas\n",
      "\n",
      "\n",
      "# Performs a t-test on two sets of baseball data (left-handed and right-handed hitters).\n",
      "# You are given a csv file that has three columns.  A player's name, \n",
      "# handedness (L for lefthanded or R for righthanded) and their\n",
      "# career batting average (called 'avg'). \n",
      "    \n",
      "# Read the csv file into a pandas data frame,and run Welch's t-test on the two \n",
      "# cohorts defined by handedness.\n",
      "    \n",
      "# One cohort should be a data frame of right-handed batters. \n",
      "# And the other cohort the left-handed batters.\n",
      " \n",
      "# Tasks\n",
      "# (1) Print the mean of right-handed and left-handed batting averages\n",
      "# (2) Using p critical = 0.5\n",
      "#     - print \"There is a significant difference\" followed by values for t and p\n",
      "#       when the p value shows significance otherwise\n",
      "#       print \"There is NO significant difference\" followed by values for t and p      \n",
      "# For example, you may have\n",
      "# \"There is a signficant difference\"\n",
      "#  t = 9.93570222\n",
      "#  p = 0.000023\n",
      "\n",
      "baseball_data = pandas.read_csv('baseball_data.csv')\n",
      "left_handed = baseball_data['avg'][baseball_data['handedness'] == 'L']\n",
      "right_handed = baseball_data['avg'][baseball_data['handedness'] == 'R']\n",
      "\n",
      "print np.mean(left_handed)\n",
      "print np.mean(right_handed)\n",
      "\n",
      "t,p = stats.ttest_ind(left_handed, right_handed, equal_var=False)\n",
      "\n",
      "if p <= 0.05:\n",
      "    print \"DERE IZ A SIGNIFAICANT DIFARENCE\"\n",
      "else:\n",
      "    print \"DERE NO IZ A SIGNIFACANT DIFARENCE\"\n",
      "print \"I IZ A G00d S173LLAR\""
     ],
     "language": "python",
     "metadata": {},
     "outputs": [
      {
       "output_type": "stream",
       "stream": "stdout",
       "text": [
        "0.204512658228\n",
        "0.176620081411\n",
        "DERE IZ A SIGNIFAICANT DIFARENCE\n",
        "I IZ A G00d S173LLAR\n"
       ]
      }
     ],
     "prompt_number": 8
    },
    {
     "cell_type": "markdown",
     "metadata": {},
     "source": [
      "## Exercise (Turnstile entries in NY subway)"
     ]
    },
    {
     "cell_type": "code",
     "collapsed": false,
     "input": [
      "# Consume the turnstile_weather data into a dataframe. \n",
      "# You should print \n",
      "# (1) the mean number of entries ('ENTRIESn_hourly') with rain \n",
      "# (2) the mean number of entries without rain\n",
      "# (3) get the Mann-Whitney U statistic and p-value \n",
      "# (4) with 95% significance level, print if there is a significant difference\n",
      "\n",
      "# Your code goes here\n",
      "\n",
      "master = pandas.read_csv(\"turnstile_data_master_with_weather.csv\")\n",
      "rain = master['EXITSn_hourly'][master['rain']==1]\n",
      "no_rain = master['EXITSn_hourly'][master['rain']!=1]\n",
      "\n",
      "print 'entries with rain = ', np.mean(rain)\n",
      "print 'entries with no rain = ', np.mean(no_rain)\n",
      "\n",
      "u,p = stats.mannwhitneyu(rain,no_rain)\n",
      "if p <= 0.05:\n",
      "    print 'omg it significant'\n",
      "else:\n",
      "    print 'oh nose it no significant'"
     ],
     "language": "python",
     "metadata": {},
     "outputs": [
      {
       "output_type": "stream",
       "stream": "stdout",
       "text": [
        "entries with rain =  894.123571558\n",
        "entries with no rain =  883.259610459\n",
        "omg it significant\n"
       ]
      }
     ],
     "prompt_number": 13
    },
    {
     "cell_type": "code",
     "collapsed": false,
     "input": [],
     "language": "python",
     "metadata": {},
     "outputs": [],
     "prompt_number": 13
    },
    {
     "cell_type": "code",
     "collapsed": false,
     "input": [],
     "language": "python",
     "metadata": {},
     "outputs": []
    }
   ],
   "metadata": {}
  }
 ]
}