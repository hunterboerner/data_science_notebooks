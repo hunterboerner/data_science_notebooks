{
 "metadata": {
  "name": "",
  "signature": "sha256:1f3eaed235388196813df9a79e002e214907d5e62b0338dd288ffab33e34bdbc"
 },
 "nbformat": 3,
 "nbformat_minor": 0,
 "worksheets": [
  {
   "cells": [
    {
     "cell_type": "markdown",
     "metadata": {},
     "source": [
      "# Matrix Factorization Algorithm\n",
      "\n",
      "**note: algorithm taken from by [Albert Au Yeung](http://www.quuxlabs.com/blog/2010/09/matrix-factorization-a-simple-tutorial-and-implementation-in-python/)**   "
     ]
    },
    {
     "cell_type": "code",
     "collapsed": false,
     "input": [
      "import numpy as np\n",
      "\n",
      "\"\"\"\n",
      "@INPUT:\n",
      "    R     : a matrix to be factorized, dimension N x M\n",
      "    P     : an initial matrix of dimension N x K\n",
      "    Q     : an initial matrix of dimension M x K\n",
      "    K     : the number of latent features\n",
      "    steps : the maximum number of steps to perform the optimisation\n",
      "    alpha : the learning rate\n",
      "    beta  : the regularization parameter\n",
      "@OUTPUT:\n",
      "    the final matrices P and Q\n",
      "\"\"\"\n",
      "def matrix_factorization(R, P, Q, K, steps=5000, alpha=0.0002, beta=0.02):\n",
      "    Q = Q.T\n",
      "    for step in xrange(steps):\n",
      "        for i in xrange(len(R)):\n",
      "            for j in xrange(len(R[i])):\n",
      "                if R[i][j] > 0:\n",
      "                    eij = R[i][j] - np.dot(P[i,:],Q[:,j])\n",
      "                    for k in xrange(K):\n",
      "                        P[i][k] = P[i][k] + alpha * (2 * eij * Q[k][j] - beta * P[i][k])\n",
      "                        Q[k][j] = Q[k][j] + alpha * (2 * eij * P[i][k] - beta * Q[k][j])\n",
      "        eR = np.dot(P,Q)\n",
      "        e = 0\n",
      "        for i in xrange(len(R)):\n",
      "            for j in xrange(len(R[i])):\n",
      "                if R[i][j] > 0:\n",
      "                    e = e + pow(R[i][j] - np.dot(P[i,:],Q[:,j]), 2)\n",
      "                    for k in xrange(K):\n",
      "                        e = e + (beta/2) * ( pow(P[i][k],2) + pow(Q[k][j],2) )\n",
      "        if e < 0.001:\n",
      "            break\n",
      "    return P, Q.T"
     ],
     "language": "python",
     "metadata": {},
     "outputs": [],
     "prompt_number": 4
    },
    {
     "cell_type": "code",
     "collapsed": false,
     "input": [
      "R = [[5,3,0,1],\n",
      "     [4,0,0,1],\n",
      "     [1,1,0,5],\n",
      "     [1,0,0,4],\n",
      "     [0,1,5,4]]\n",
      "\n",
      "R = np.array(R)\n",
      "N = len(R)\n",
      "M = len(R[0])\n",
      "numberOfFactors = 2\n",
      "\n",
      "# Initialize the user and item factor matrices\n",
      "P = np.random.rand(N,numberOfFactors)\n",
      "Q = np.random.rand(M,numberOfFactors)\n",
      "\n",
      "# Run algorithm\n",
      "nP, nQ = matrix_factorization(R, P, Q, numberOfFactors)\n",
      "\n",
      "# Get filled in R matrix\n",
      "nR = np.dot(nP, nQ.T)\n",
      "\n",
      "print nR\n"
     ],
     "language": "python",
     "metadata": {},
     "outputs": [
      {
       "output_type": "stream",
       "stream": "stdout",
       "text": [
        "[[ 4.99142314  2.94274379  4.07878019  0.9978145 ]\n",
        " [ 3.96642024  2.34693965  3.43236339  0.99659354]\n",
        " [ 1.07181123  0.82992444  5.33139982  4.96140519]\n",
        " [ 0.96444772  0.7262644   4.33551488  3.97235887]\n",
        " [ 1.78409746  1.20538259  4.91272131  4.03757644]]\n"
       ]
      }
     ],
     "prompt_number": 6
    },
    {
     "cell_type": "code",
     "collapsed": false,
     "input": [],
     "language": "python",
     "metadata": {},
     "outputs": []
    }
   ],
   "metadata": {}
  }
 ]
}