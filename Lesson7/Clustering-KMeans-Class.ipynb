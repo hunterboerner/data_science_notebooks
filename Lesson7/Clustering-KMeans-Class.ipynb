{
 "metadata": {
  "name": "",
  "signature": "sha256:dccc7fed074cc205c3ca2f749103a8698e609533315a35f9047f682434a03bbe"
 },
 "nbformat": 3,
 "nbformat_minor": 0,
 "worksheets": [
  {
   "cells": [
    {
     "cell_type": "markdown",
     "metadata": {},
     "source": [
      "## Introducing K-Means"
     ]
    },
    {
     "cell_type": "markdown",
     "metadata": {},
     "source": [
      "K Means is an algorithm for **unsupervised clustering**: that is, finding clusters in data based on the data attributes alone (not the labels)."
     ]
    },
    {
     "cell_type": "code",
     "collapsed": false,
     "input": [
      "%matplotlib inline\n",
      "import numpy as np\n",
      "import matplotlib.pyplot as plt"
     ],
     "language": "python",
     "metadata": {},
     "outputs": []
    },
    {
     "cell_type": "code",
     "collapsed": false,
     "input": [
      "from sklearn.datasets.samples_generator import make_blobs\n",
      "X, y = make_blobs(n_samples=300, centers=4,\n",
      "                  random_state=0, cluster_std=0.60)\n",
      "plt.scatter(X[:, 0], X[:, 1], s=50);"
     ],
     "language": "python",
     "metadata": {},
     "outputs": []
    },
    {
     "cell_type": "markdown",
     "metadata": {},
     "source": [
      "## The K-Means Algorithm: Lloyd\u2019s algorithm\n",
      "\n",
      "K-Means works as follows:\n",
      "\n",
      "1. Guess some cluster centers\n",
      "2. Repeat until convergence\n",
      "   1. Assign points to the nearest cluster center\n",
      "   2. Set the cluster centers to the mean "
     ]
    },
    {
     "cell_type": "code",
     "collapsed": false,
     "input": [
      "from sklearn.cluster import KMeans\n",
      "clf = KMeans(4)  # 4 clusters\n",
      "clf.fit(X)\n",
      "clusters = clf.predict(X)\n",
      "cluster_centers = clf.cluster_centers_;\n",
      "plt.scatter(X[:, 0], X[:, 1], c=clusters, s=50, cmap='rainbow');"
     ],
     "language": "python",
     "metadata": {},
     "outputs": []
    },
    {
     "cell_type": "code",
     "collapsed": false,
     "input": [
      "plt.scatter(X[:, 0], X[:, 1], c=clusters, s=50, cmap='rainbow');\n",
      "plt.scatter(cluster_centers[:,0],cluster_centers[:,1],s= 100,linewidth=2.0,c='black')"
     ],
     "language": "python",
     "metadata": {},
     "outputs": []
    },
    {
     "cell_type": "markdown",
     "metadata": {},
     "source": [
      "### KMeans Caveats\n",
      "\n",
      "1. It is possible to find a solution that is not at the global minima. Therefore, scikit-learn by default uses a large number of random initializations and finds the best results.\n",
      "\n",
      "2. The number of clusters must be set beforehand... "
     ]
    },
    {
     "cell_type": "markdown",
     "metadata": {},
     "source": [
      "## Application of KMeans to Digits"
     ]
    },
    {
     "cell_type": "markdown",
     "metadata": {},
     "source": [
      "For a closer-to-real-world example, we will look at the digits data.  This dataset is made up of 1797 8x8 images. Each image, like the one shown below, is of a hand-written digit (0-9). \n",
      "\n",
      "Here we'll use KMeans to automatically cluster the data in 64 dimensions, and then look at the cluster centers to see what the algorithm has found."
     ]
    },
    {
     "cell_type": "code",
     "collapsed": false,
     "input": [
      "from sklearn.datasets import load_digits\n",
      "digits = load_digits()\n",
      "\n",
      "#Display the first digit\n",
      "plt.figure(1, figsize=(3, 3))\n",
      "plt.imshow(digits.images[0], cmap=plt.cm.gray_r, interpolation = 'nearest')\n",
      "plt.show()"
     ],
     "language": "python",
     "metadata": {},
     "outputs": []
    },
    {
     "cell_type": "markdown",
     "metadata": {},
     "source": [
      "In order to utilize an 8x8 figure like this, it needs to be first transform it into a feature vector with length 64."
     ]
    },
    {
     "cell_type": "code",
     "collapsed": false,
     "input": [
      "print digits.data.shape"
     ],
     "language": "python",
     "metadata": {},
     "outputs": []
    },
    {
     "cell_type": "markdown",
     "metadata": {},
     "source": [
      "Perform kmeans clustering on the digits data.  Set n_clusters = 10."
     ]
    },
    {
     "cell_type": "code",
     "collapsed": false,
     "input": [
      "# Your code goes here"
     ],
     "language": "python",
     "metadata": {},
     "outputs": []
    },
    {
     "cell_type": "markdown",
     "metadata": {},
     "source": [
      "Plot each of these cluster centers to see what they represent:"
     ]
    },
    {
     "cell_type": "code",
     "collapsed": false,
     "input": [
      "fig = plt.figure(figsize=(8, 3))\n",
      "for i in range(10):\n",
      "    ax = fig.add_subplot(2, 5, 1 + i, xticks=[], yticks=[])\n",
      "    ax.imshow(clf.cluster_centers_[i].reshape((8, 8)), cmap=plt.cm.binary)"
     ],
     "language": "python",
     "metadata": {},
     "outputs": []
    },
    {
     "cell_type": "markdown",
     "metadata": {},
     "source": [
      "We see that *even without the labels*, KMeans is able to find clusters whose means are recognizable digits."
     ]
    },
    {
     "cell_type": "code",
     "collapsed": false,
     "input": [],
     "language": "python",
     "metadata": {},
     "outputs": []
    }
   ],
   "metadata": {}
  }
 ]
}