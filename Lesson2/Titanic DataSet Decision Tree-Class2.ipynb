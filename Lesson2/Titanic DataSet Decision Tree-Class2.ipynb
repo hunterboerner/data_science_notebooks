{
 "metadata": {
  "name": "",
  "signature": "sha256:f75fd8d52fc1e07d4b9add6a1556f43336e68f21ed9372603d0e04a9b769a7a8"
 },
 "nbformat": 3,
 "nbformat_minor": 0,
 "worksheets": [
  {
   "cells": [
    {
     "cell_type": "code",
     "collapsed": false,
     "input": [
      "# Load data\n",
      "import pandas as pd\n",
      "import numpy as np\n",
      "df = pd.read_csv('/Users/annette/Desktop/IntroToDataScienceClass/Lesson1/Numpy and Pandas/TitanicData.csv')"
     ],
     "language": "python",
     "metadata": {},
     "outputs": []
    },
    {
     "cell_type": "code",
     "collapsed": false,
     "input": [
      "# Get another copy of df\n",
      "# Extract Salutation\n",
      "#This function takes a Name, splits it by a comma (,), then splits it by a dot(.) and removes the whitespaces. \n",
      "#The output of calling function with \u2018Jain, Mr. Kunal\u2019 would be Mr and  \n",
      "#\u2018Jain, Miss. Jenika\u2019 would be Miss\n",
      "def name_extract(word):\n",
      " return word.split(',')[1].split('.')[0].strip()\n",
      "\n",
      "#Next, we apply this function to the entire column using apply() \n",
      "#function and convert the outcome to a new DataFrame df2:\n",
      "df2 = pd.DataFrame({'Salutation':df['Name'].apply(name_extract)})\n",
      "\n",
      "# Merge new Salutation column to the original data frame\n",
      "df2 = pd.merge(df, df2, left_index = True, right_index = True) # merges on index\n"
     ],
     "language": "python",
     "metadata": {},
     "outputs": []
    },
    {
     "cell_type": "code",
     "collapsed": false,
     "input": [
      "# Look at distribution\n",
      "temp1 = df2.groupby('Salutation').PassengerId.count()\n",
      "print temp1\n"
     ],
     "language": "python",
     "metadata": {},
     "outputs": []
    },
    {
     "cell_type": "code",
     "collapsed": false,
     "input": [
      "# Clean up data\n",
      "df2['Salutation'][df2.Salutation == 'Jonkheer'] = 'Master'\n",
      "df2['Salutation'][df2.Salutation.isin(['Ms','Mlle'])] = 'Miss'\n",
      "df2['Salutation'][df2.Salutation == 'Mme'] = 'Mrs'\n",
      "df2['Salutation'][df2.Salutation.isin(['Capt', 'Don', 'Major', 'Col', 'Sir'])] = 'Sir'\n",
      "df2['Salutation'][df2.Salutation.isin(['Dona', 'Lady', 'the Countess'])] = 'Lady'"
     ],
     "language": "python",
     "metadata": {},
     "outputs": []
    },
    {
     "cell_type": "code",
     "collapsed": false,
     "input": [
      "%matplotlib inline\n",
      "df2.boxplot(column='Age', by = 'Salutation')"
     ],
     "language": "python",
     "metadata": {},
     "outputs": []
    },
    {
     "cell_type": "code",
     "collapsed": false,
     "input": [
      "# Create a table with median values for different class and salutation combinations\n",
      "table = df2.pivot_table(values='Age', rows=['Salutation'], cols=['Pclass'], aggfunc=np.median)\n",
      "print table\n",
      "\n",
      "# Define function to return value of this pivot_table\n",
      "def f(x):\n",
      "    return table[x['Pclass']][x['Salutation']]\n",
      "\n",
      "# Replace missing values\n",
      "# (1) fillna -> you will replace na with a value\n",
      "# (2) value is taken from function that refers to table\n",
      "# (3) In function you access the class and the salutation of the passenger and return median age\n",
      "# Applying method to each row\n",
      "df2['Age'].fillna(df2[df2['Age'].isnull()].apply(f, axis=1), inplace=True)\n"
     ],
     "language": "python",
     "metadata": {},
     "outputs": []
    },
    {
     "cell_type": "code",
     "collapsed": false,
     "input": [
      "# Create Dummy Variables\n",
      "dummy_Sex = pd.get_dummies(df2['Sex'],prefix='Sex')\n",
      "dummy_PClass = pd.get_dummies(df2['Pclass'],prefix='PClass')\n",
      "dummy_Salutation= pd.get_dummies(df2['Salutation'],prefix='Salutation')\n",
      "\n",
      "\n",
      "cols_to_keep = ['Age','Fare','SibSp','Parch']\n",
      "df3 = df2[cols_to_keep].join([dummy_Sex,dummy_PClass,dummy_Salutation])"
     ],
     "language": "python",
     "metadata": {},
     "outputs": []
    },
    {
     "cell_type": "code",
     "collapsed": false,
     "input": [
      "#Create Training and Test Set\n",
      "X = df3\n",
      "Y = df2['Survived']\n",
      "from sklearn import cross_validation\n",
      "X_train, X_test, Y_train, Y_test = cross_validation.train_test_split(X, Y, test_size=0.4, random_state = 49)\n"
     ],
     "language": "python",
     "metadata": {},
     "outputs": []
    },
    {
     "cell_type": "code",
     "collapsed": false,
     "input": [
      "# Use Decision Tree Classifier \n",
      "from sklearn import tree\n",
      "clf = tree.DecisionTreeClassifier()\n",
      "clf = clf.fit(X_train, Y_train)\n",
      "\n",
      "accuracy = clf.score(X_test, Y_test)\n",
      "print(\"Accuracy: %0.2f\" % (accuracy))"
     ],
     "language": "python",
     "metadata": {},
     "outputs": []
    },
    {
     "cell_type": "code",
     "collapsed": false,
     "input": [
      "# Use Random Forest\n",
      "from sklearn.ensemble import RandomForestClassifier\n",
      "\n",
      "#create and train the random forest\n",
      "rf = RandomForestClassifier(n_estimators=200,n_jobs = -1,random_state=121873)\n",
      "rf.fit(X_train, Y_train)\n",
      "\n",
      "Y_pred = rf.predict(X_test);\n",
      "print rf.score(X_test, Y_test)"
     ],
     "language": "python",
     "metadata": {},
     "outputs": []
    },
    {
     "cell_type": "code",
     "collapsed": false,
     "input": [
      "from sklearn import cross_validation\n",
      "scores = cross_validation.cross_val_score(clf,X,Y,cv=5,scoring='accuracy')\n",
      "print(\"Decision Tree Accuracy: %0.2f (+/- %0.2f)\" % (scores.mean(), scores.std() * 2)) \n",
      "\n",
      "scores = cross_validation.cross_val_score(rf,X,Y,cv=5,scoring='accuracy')\n",
      "print(\"Random Forest Accuracy: %0.2f (+/- %0.2f)\" % (scores.mean(), scores.std() * 2)) \n"
     ],
     "language": "python",
     "metadata": {},
     "outputs": []
    }
   ],
   "metadata": {}
  }
 ]
}