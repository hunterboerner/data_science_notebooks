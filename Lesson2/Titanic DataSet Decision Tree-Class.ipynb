{
 "metadata": {
  "name": "",
  "signature": "sha256:ce168cdc645fed05f3957a807219fce518d225d9cd4ade8e5a318a2bc408adb2"
 },
 "nbformat": 3,
 "nbformat_minor": 0,
 "worksheets": [
  {
   "cells": [
    {
     "cell_type": "code",
     "collapsed": false,
     "input": [
      "# Load data\n",
      "import pandas as pd\n",
      "import numpy as np\n",
      "df = pd.read_csv('/Users/annette/Desktop/IntroToDataScienceClass/Lesson1/Numpy and Pandas/TitanicData.csv')"
     ],
     "language": "python",
     "metadata": {},
     "outputs": []
    },
    {
     "cell_type": "code",
     "collapsed": false,
     "input": [
      "# Replace missing age values with median age\n",
      "medianAge = np.median(df['Age'])\n",
      "df['Age'].fillna(medianAge, inplace=True)"
     ],
     "language": "python",
     "metadata": {},
     "outputs": []
    },
    {
     "cell_type": "code",
     "collapsed": false,
     "input": [
      "# Create Dummy Variables\n",
      "dummy_Sex = pd.get_dummies(df['Sex'],prefix='Sex')\n",
      "dummy_PClass = pd.get_dummies(df['Pclass'],prefix='PClass')\n",
      "\n",
      "cols_to_keep = ['Age','Fare','SibSp','Parch']\n",
      "df2 = df[cols_to_keep].join([dummy_Sex,dummy_PClass])"
     ],
     "language": "python",
     "metadata": {},
     "outputs": []
    },
    {
     "cell_type": "code",
     "collapsed": false,
     "input": [
      "#Create Training and Test Set\n",
      "X = df2\n",
      "Y = df['Survived']\n",
      "from sklearn import cross_validation\n",
      "X_train, X_test, Y_train, Y_test = cross_validation.train_test_split(X, Y, test_size=0.4, random_state = 49)\n"
     ],
     "language": "python",
     "metadata": {},
     "outputs": []
    },
    {
     "cell_type": "code",
     "collapsed": false,
     "input": [
      "# Use Decision Tree Classifier \n",
      "from sklearn import tree\n",
      "clf = tree.DecisionTreeClassifier()\n",
      "clf = clf.fit(X_train, Y_train)\n",
      "\n",
      "accuracy = clf.score(X_test, Y_test)\n",
      "print(\"Accuracy: %0.2f\" % (accuracy))"
     ],
     "language": "python",
     "metadata": {},
     "outputs": []
    },
    {
     "cell_type": "code",
     "collapsed": false,
     "input": [
      "# Use Random Forest\n",
      "from sklearn.ensemble import RandomForestClassifier\n",
      "\n",
      "#create and train the random forest\n",
      "rf = RandomForestClassifier(n_estimators=200,n_jobs = -1,random_state=121873)\n",
      "rf.fit(X_train, Y_train)\n",
      "\n",
      "Y_pred = rf.predict(X_test);\n",
      "print rf.score(X_test, Y_test)"
     ],
     "language": "python",
     "metadata": {},
     "outputs": []
    },
    {
     "cell_type": "code",
     "collapsed": false,
     "input": [
      "from sklearn import cross_validation\n",
      "scores = cross_validation.cross_val_score(clf,X,Y,cv=5,scoring='accuracy')\n",
      "print(\"Decision Tree Accuracy: %0.2f (+/- %0.2f)\" % (scores.mean(), scores.std() * 2)) \n",
      "\n",
      "scores = cross_validation.cross_val_score(rf,X,Y,cv=5,scoring='accuracy')\n",
      "print(\"Random Forest Accuracy: %0.2f (+/- %0.2f)\" % (scores.mean(), scores.std() * 2)) \n"
     ],
     "language": "python",
     "metadata": {},
     "outputs": []
    }
   ],
   "metadata": {}
  }
 ]
}