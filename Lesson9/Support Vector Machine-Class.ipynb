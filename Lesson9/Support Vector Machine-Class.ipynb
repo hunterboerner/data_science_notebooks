{
 "metadata": {
  "name": "",
  "signature": "sha256:daf8aa215868e89790ad7f4184c0408b6389abc1025c1df5156f726eb0aa7a27"
 },
 "nbformat": 3,
 "nbformat_minor": 0,
 "worksheets": [
  {
   "cells": [
    {
     "cell_type": "heading",
     "level": 1,
     "metadata": {},
     "source": [
      "Classification\n"
     ]
    },
    {
     "cell_type": "heading",
     "level": 2,
     "metadata": {},
     "source": [
      "Overview"
     ]
    },
    {
     "cell_type": "markdown",
     "metadata": {},
     "source": [
      "Develop model that can be used to make accurate predictions\n",
      "<img src=\"IntroClassificationSlide.png\"/>\n",
      "\n",
      "\n"
     ]
    },
    {
     "cell_type": "heading",
     "level": 2,
     "metadata": {},
     "source": [
      "Support Vector Machines"
     ]
    },
    {
     "cell_type": "markdown",
     "metadata": {},
     "source": [
      "<img src=\"SVM1.png\"/>\n",
      "Image: www.cs.utexas.edu/~mooney/cs391L/slides/svm.ppt"
     ]
    },
    {
     "cell_type": "heading",
     "level": 3,
     "metadata": {},
     "source": [
      "Which decision boundary is the best?"
     ]
    },
    {
     "cell_type": "markdown",
     "metadata": {},
     "source": [
      "<img src=\"SVM2.png\"/>\n",
      "\n",
      "\n",
      "Images: www.cs.utexas.edu/~mooney/cs391L/slides/svm.ppt"
     ]
    },
    {
     "cell_type": "heading",
     "level": 3,
     "metadata": {},
     "source": [
      "SVM Kernels"
     ]
    },
    {
     "cell_type": "heading",
     "level": 2,
     "metadata": {},
     "source": [
      "<img src=\"SVMKernel.png\"/>"
     ]
    },
    {
     "cell_type": "heading",
     "level": 3,
     "metadata": {},
     "source": [
      "Hyperparameters"
     ]
    },
    {
     "cell_type": "markdown",
     "metadata": {},
     "source": [
      "<img src=\"SVM3.png\"/>\n",
      "\n",
      "Image: www.cs.colostate.edu/~asa/pdfs/howto.pdf"
     ]
    },
    {
     "cell_type": "heading",
     "level": 2,
     "metadata": {},
     "source": [
      "Exercise"
     ]
    },
    {
     "cell_type": "heading",
     "level": 3,
     "metadata": {},
     "source": [
      "Create Dataset"
     ]
    },
    {
     "cell_type": "code",
     "collapsed": false,
     "input": [
      "from sklearn.datasets import make_moons\n",
      "import numpy as np\n",
      "import matplotlib.pyplot as plt\n",
      "%matplotlib inline\n",
      "\n",
      "# Create a 2D data set \n",
      "X, Y = make_moons(noise=0.15,random_state = 1,n_samples = 1000)\n",
      "\n",
      "# Identify sample classes\n",
      "class0_actual = np.where(Y==0);\n",
      "class1_actual = np.where(Y==1);\n",
      "\n",
      "# Plot data\n",
      "plt.scatter(X[class0_actual,0],X[class0_actual,1],c = 'yellow')\n",
      "plt.scatter(X[class1_actual,0],X[class1_actual,1],c = 'yellow')"
     ],
     "language": "python",
     "metadata": {},
     "outputs": [
      {
       "metadata": {},
       "output_type": "pyout",
       "prompt_number": 4,
       "text": [
        "<matplotlib.collections.PathCollection at 0x109e25710>"
       ]
      },
      {
       "metadata": {},
       "output_type": "display_data",
       "png": "[encoded data removed]",
       "text": [
        "<matplotlib.figure.Figure at 0x109d48450>"
       ]
      }
     ],
     "prompt_number": 4
    },
    {
     "cell_type": "markdown",
     "metadata": {},
     "source": [
      "## Create Training and Test Sets (60% Training, 40% Test) \n",
      "Use \"cross_validation\" class from sklearn to create the following variables\n",
      "X_train, X_test, Y_train, Y_test"
     ]
    },
    {
     "cell_type": "code",
     "collapsed": false,
     "input": [
      "# Your code goes here"
     ],
     "language": "python",
     "metadata": {},
     "outputs": []
    },
    {
     "cell_type": "markdown",
     "metadata": {},
     "source": [
      "##Instantiate an SVM with an Linear Kernel"
     ]
    },
    {
     "cell_type": "code",
     "collapsed": false,
     "input": [
      "# Your code goes here"
     ],
     "language": "python",
     "metadata": {},
     "outputs": []
    },
    {
     "cell_type": "markdown",
     "metadata": {},
     "source": [
      "##Print Accuracy"
     ]
    },
    {
     "cell_type": "code",
     "collapsed": false,
     "input": [
      "# Your code goes here"
     ],
     "language": "python",
     "metadata": {},
     "outputs": []
    },
    {
     "cell_type": "code",
     "collapsed": false,
     "input": [
      "from sklearn.metrics import confusion_matrix\n",
      "Y_pred = clf.predict(X_test);\n",
      "cm = confusion_matrix(Y_test, Y_pred)\n",
      "print(\"Confusion Matrix:\")\n",
      "print(cm)"
     ],
     "language": "python",
     "metadata": {},
     "outputs": []
    },
    {
     "cell_type": "code",
     "collapsed": false,
     "input": [
      "scores = cross_validation.cross_val_score(clf,X,Y,cv=10,scoring='accuracy')\n",
      "print(\"Accuracy: %0.2f (+/- %0.2f)\" % (scores.mean(), scores.std() * 2)) "
     ],
     "language": "python",
     "metadata": {},
     "outputs": []
    },
    {
     "cell_type": "heading",
     "level": 3,
     "metadata": {},
     "source": [
      "Plot Data Classification"
     ]
    },
    {
     "cell_type": "code",
     "collapsed": false,
     "input": [
      "import numpy as np\n",
      "import matplotlib.pyplot as plt\n",
      "%matplotlib inline\n",
      "\n",
      "Y_pred = clf.predict(X);\n",
      "\n",
      "# Identify sample classes\n",
      "class0 = np.where(Y_pred==0);\n",
      "class1 = np.where(Y_pred==1);\n",
      "\n",
      "# Plot data\n",
      "plt.subplot(1, 2, 1)\n",
      "plt.scatter(X[class0,0],X[class0,1],c = 'r')\n",
      "plt.scatter(X[class1,0],X[class1,1],c = 'b')\n",
      "plt.title('Predicted Classes')\n",
      "\n",
      "plt.subplot(1,2,2)\n",
      "plt.scatter(X[class0_actual,0],X[class0_actual,1],c = 'green')\n",
      "plt.scatter(X[class1_actual,0],X[class1_actual,1],c = 'brown')\n",
      "plt.title('Actual Classes')\n",
      "\n"
     ],
     "language": "python",
     "metadata": {},
     "outputs": []
    },
    {
     "cell_type": "heading",
     "level": 3,
     "metadata": {},
     "source": [
      "Can we do better? RBF Kernel?"
     ]
    },
    {
     "cell_type": "code",
     "collapsed": false,
     "input": [
      "clf = svm.SVC(kernel='rbf',gamma=1,C=1).fit(X_train,Y_train)"
     ],
     "language": "python",
     "metadata": {},
     "outputs": []
    },
    {
     "cell_type": "code",
     "collapsed": false,
     "input": [
      "scores = cross_validation.cross_val_score(clf,X,Y,cv=10,scoring='accuracy')\n",
      "print(\"Accuracy: %0.2f (+/- %0.2f)\" % (scores.mean(), scores.std() * 2)) "
     ],
     "language": "python",
     "metadata": {},
     "outputs": []
    },
    {
     "cell_type": "code",
     "collapsed": false,
     "input": [
      "from sklearn.metrics import confusion_matrix\n",
      "Y_pred = clf.predict(X_test);\n",
      "cm = confusion_matrix(Y_test, Y_pred)\n",
      "print(\"Confusion Matrix:\")\n",
      "print(cm)"
     ],
     "language": "python",
     "metadata": {},
     "outputs": []
    },
    {
     "cell_type": "heading",
     "level": 3,
     "metadata": {},
     "source": [
      "Plot Data Classification"
     ]
    },
    {
     "cell_type": "code",
     "collapsed": false,
     "input": [
      "import numpy as np\n",
      "\n",
      "# Get predicted classes for all data\n",
      "Y_pred = clf.predict(X);\n",
      "\n",
      "# Identify sample classes\n",
      "class0 = np.where(Y_pred==0);\n",
      "class1 = np.where(Y_pred==1);\n",
      "\n",
      "# Plot data\n",
      "plt.subplot(1, 2, 1)\n",
      "plt.scatter(X[class0,0],X[class0,1],c = 'r')\n",
      "plt.scatter(X[class1,0],X[class1,1],c = 'b')\n",
      "plt.title('Predicted Classes')\n",
      "\n",
      "plt.subplot(1,2,2)\n",
      "plt.scatter(X[class0_actual,0],X[class0_actual,1],c = 'green')\n",
      "plt.scatter(X[class1_actual,0],X[class1_actual,1],c = 'brown')\n",
      "plt.title('Actual Classes')"
     ],
     "language": "python",
     "metadata": {},
     "outputs": []
    },
    {
     "cell_type": "heading",
     "level": 3,
     "metadata": {},
     "source": [
      "Did we choose the best hyperparameters?"
     ]
    },
    {
     "cell_type": "code",
     "collapsed": false,
     "input": [
      "from sklearn.grid_search import GridSearchCV\n",
      "\n",
      "tuned_parameters = [{'kernel': ['rbf'], 'gamma': [1e-3, 1e-2, 1],'C': [1, 10, 100]},{'kernel': ['linear'], 'C': [1, 10, 100]}]\n",
      "clf = GridSearchCV(svm.SVC(), tuned_parameters, cv=10,verbose = 2)\n",
      "clf.fit(X, Y)"
     ],
     "language": "python",
     "metadata": {},
     "outputs": []
    },
    {
     "cell_type": "heading",
     "level": 3,
     "metadata": {},
     "source": [
      "Best estimator"
     ]
    },
    {
     "cell_type": "code",
     "collapsed": false,
     "input": [
      "clf_BestEstimator = clf.best_estimator_\n",
      "print(clf_BestEstimator)"
     ],
     "language": "python",
     "metadata": {},
     "outputs": []
    },
    {
     "cell_type": "code",
     "collapsed": false,
     "input": [
      "print(\"Initial Guess:\")\n",
      " \n",
      "clf = svm.SVC(kernel='rbf',gamma = 1, C=1);\n",
      "scores = cross_validation.cross_val_score(clf, X, Y, cv=10)\n",
      "print(\"Accuracy: %0.2f (+/- %0.2f)\" % (scores.mean(), scores.std() * 2))\n",
      "print(\"\")\n",
      "\n",
      "print(\"Optimal Parameters (Grid Search):\")\n",
      "clf = svm.SVC(kernel='rbf',gamma = 1, C=100);\n",
      "scores = cross_validation.cross_val_score(clf, X, Y, cv=10)\n",
      "print(\"Accuracy: %0.2f (+/- %0.2f)\" % (scores.mean(), scores.std() * 2))\n"
     ],
     "language": "python",
     "metadata": {},
     "outputs": []
    },
    {
     "cell_type": "code",
     "collapsed": false,
     "input": [
      "from numpy import genfromtxt, savetxt\n",
      "\n",
      "dataset = genfromtxt(open('/Users/annette/AMT_Work/BiologicalResponse/train.csv','r'), delimiter=',', dtype='f8')[1:]    \n",
      "Y = [x[0] for x in dataset]\n",
      "X = [x[1:] for x in dataset]\n",
      "\n",
      "# Make my own names for descriptor names\n",
      "featureID = range(1776);\n"
     ],
     "language": "python",
     "metadata": {},
     "outputs": []
    },
    {
     "cell_type": "code",
     "collapsed": false,
     "input": [
      "from sklearn import cross_validation\n",
      "\n",
      "X_train, X_test, Y_train, Y_test = cross_validation.train_test_split(X, Y, test_size=0.3, random_state = 0)"
     ],
     "language": "python",
     "metadata": {},
     "outputs": []
    },
    {
     "cell_type": "code",
     "collapsed": false,
     "input": [
      "from sklearn import svm\n",
      "clf = svm.SVC(kernel='linear', C=1).fit(X_train, Y_train)"
     ],
     "language": "python",
     "metadata": {},
     "outputs": []
    },
    {
     "cell_type": "code",
     "collapsed": false,
     "input": [
      "scores = cross_validation.cross_val_score(clf,X,Y,cv=10,scoring='accuracy')\n",
      "print(\"Accuracy: %0.2f (+/- %0.2f)\" % (scores.mean(), scores.std() * 2)) "
     ],
     "language": "python",
     "metadata": {},
     "outputs": []
    },
    {
     "cell_type": "code",
     "collapsed": false,
     "input": [],
     "language": "python",
     "metadata": {},
     "outputs": []
    }
   ],
   "metadata": {}
  }
 ]
}