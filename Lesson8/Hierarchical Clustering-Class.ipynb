{
 "metadata": {
  "name": "",
  "signature": "sha256:303fe922e98f6ec404354b7b796022cf34ab3e0ca16b40cc0dcdb50428c23f2f"
 },
 "nbformat": 3,
 "nbformat_minor": 0,
 "worksheets": [
  {
   "cells": [
    {
     "cell_type": "heading",
     "level": 2,
     "metadata": {},
     "source": [
      "Hierarchical clustering"
     ]
    },
    {
     "cell_type": "markdown",
     "metadata": {},
     "source": [
      "## Create Data Set"
     ]
    },
    {
     "cell_type": "code",
     "collapsed": false,
     "input": [
      "%matplotlib inline\n",
      "import pandas as pd\n",
      "import numpy as np\n",
      "\n",
      "x  = [1.88505201,0.75858685,0.53086046,2.10121118,2.90456146,2.82199243,1.21688824,2.08582494,2.80032271,2.8871096,1.89067363,1.05548585]\n",
      "y = [1.83256566,0.84474922,0.9779429,1.81776092,0.91189043,0.90186282,1.19189881,1.8977981,1.09191789,1.02681764,2.48316704,1.01289176]"
     ],
     "language": "python",
     "metadata": {},
     "outputs": [],
     "prompt_number": 1
    },
    {
     "cell_type": "markdown",
     "metadata": {},
     "source": [
      "## Plot Data "
     ]
    },
    {
     "cell_type": "code",
     "collapsed": false,
     "input": [
      "import matplotlib.pyplot as plt\n",
      "fig = plt.figure(figsize=(8,8))\n",
      "ax = fig.add_subplot(111)\n",
      "plt.scatter(x,y)\n",
      "numberOfPoints = len(x)\n",
      "labels = []\n",
      "for pt in range(numberOfPoints):\n",
      "    ax.annotate(pt, xy=(x[pt]+0.05, y[pt]+0.05))\n",
      "    labels.append('Point ' +  str(pt))"
     ],
     "language": "python",
     "metadata": {},
     "outputs": [
      {
       "metadata": {},
       "output_type": "display_data",
       "png": "[encoded data removed]",
       "text": [
        "<matplotlib.figure.Figure at 0x1111a5290>"
       ]
      }
     ],
     "prompt_number": 2
    },
    {
     "cell_type": "markdown",
     "metadata": {},
     "source": [
      "## Create Tuples\n",
      "The function zip allows you to form tuples from the x,y arrays"
     ]
    },
    {
     "cell_type": "code",
     "collapsed": false,
     "input": [
      "zipped = zip(x, y)\n",
      "print zipped"
     ],
     "language": "python",
     "metadata": {},
     "outputs": [
      {
       "output_type": "stream",
       "stream": "stdout",
       "text": [
        "[(1.88505201, 1.83256566), (0.75858685, 0.84474922), (0.53086046, 0.9779429), (2.10121118, 1.81776092), (2.90456146, 0.91189043), (2.82199243, 0.90186282), (1.21688824, 1.19189881), (2.08582494, 1.8977981), (2.80032271, 1.09191789), (2.8871096, 1.02681764), (1.89067363, 2.48316704), (1.05548585, 1.01289176)]\n"
       ]
      }
     ],
     "prompt_number": 3
    },
    {
     "cell_type": "markdown",
     "metadata": {},
     "source": [
      "## Place data into a data frame"
     ]
    },
    {
     "cell_type": "code",
     "collapsed": false,
     "input": [
      "df = pd.DataFrame(zip(x, y), columns=['x', 'y'], index = labels)\n",
      "df"
     ],
     "language": "python",
     "metadata": {},
     "outputs": [
      {
       "html": [
        "<div style=\"max-height:1000px;max-width:1500px;overflow:auto;\">\n",
        "<table border=\"1\" class=\"dataframe\">\n",
        "  <thead>\n",
        "    <tr style=\"text-align: right;\">\n",
        "      <th></th>\n",
        "      <th>x</th>\n",
        "      <th>y</th>\n",
        "    </tr>\n",
        "  </thead>\n",
        "  <tbody>\n",
        "    <tr>\n",
        "      <th>Point 0</th>\n",
        "      <td> 1.885052</td>\n",
        "      <td> 1.832566</td>\n",
        "    </tr>\n",
        "    <tr>\n",
        "      <th>Point 1</th>\n",
        "      <td> 0.758587</td>\n",
        "      <td> 0.844749</td>\n",
        "    </tr>\n",
        "    <tr>\n",
        "      <th>Point 2</th>\n",
        "      <td> 0.530860</td>\n",
        "      <td> 0.977943</td>\n",
        "    </tr>\n",
        "    <tr>\n",
        "      <th>Point 3</th>\n",
        "      <td> 2.101211</td>\n",
        "      <td> 1.817761</td>\n",
        "    </tr>\n",
        "    <tr>\n",
        "      <th>Point 4</th>\n",
        "      <td> 2.904561</td>\n",
        "      <td> 0.911890</td>\n",
        "    </tr>\n",
        "    <tr>\n",
        "      <th>Point 5</th>\n",
        "      <td> 2.821992</td>\n",
        "      <td> 0.901863</td>\n",
        "    </tr>\n",
        "    <tr>\n",
        "      <th>Point 6</th>\n",
        "      <td> 1.216888</td>\n",
        "      <td> 1.191899</td>\n",
        "    </tr>\n",
        "    <tr>\n",
        "      <th>Point 7</th>\n",
        "      <td> 2.085825</td>\n",
        "      <td> 1.897798</td>\n",
        "    </tr>\n",
        "    <tr>\n",
        "      <th>Point 8</th>\n",
        "      <td> 2.800323</td>\n",
        "      <td> 1.091918</td>\n",
        "    </tr>\n",
        "    <tr>\n",
        "      <th>Point 9</th>\n",
        "      <td> 2.887110</td>\n",
        "      <td> 1.026818</td>\n",
        "    </tr>\n",
        "    <tr>\n",
        "      <th>Point 10</th>\n",
        "      <td> 1.890674</td>\n",
        "      <td> 2.483167</td>\n",
        "    </tr>\n",
        "    <tr>\n",
        "      <th>Point 11</th>\n",
        "      <td> 1.055486</td>\n",
        "      <td> 1.012892</td>\n",
        "    </tr>\n",
        "  </tbody>\n",
        "</table>\n",
        "</div>"
       ],
       "metadata": {},
       "output_type": "pyout",
       "prompt_number": 4,
       "text": [
        "                 x         y\n",
        "Point 0   1.885052  1.832566\n",
        "Point 1   0.758587  0.844749\n",
        "Point 2   0.530860  0.977943\n",
        "Point 3   2.101211  1.817761\n",
        "Point 4   2.904561  0.911890\n",
        "Point 5   2.821992  0.901863\n",
        "Point 6   1.216888  1.191899\n",
        "Point 7   2.085825  1.897798\n",
        "Point 8   2.800323  1.091918\n",
        "Point 9   2.887110  1.026818\n",
        "Point 10  1.890674  2.483167\n",
        "Point 11  1.055486  1.012892"
       ]
      }
     ],
     "prompt_number": 4
    },
    {
     "cell_type": "markdown",
     "metadata": {},
     "source": [
      "## Create distance matrix"
     ]
    },
    {
     "cell_type": "code",
     "collapsed": false,
     "input": [
      "# compute distance matrix\n",
      "from scipy.spatial.distance import pdist, squareform\n",
      "\n",
      "distMatrix = pd.DataFrame(squareform(pdist(df, metric='euclidean')))\n",
      "distMatrix"
     ],
     "language": "python",
     "metadata": {},
     "outputs": [
      {
       "html": [
        "<div style=\"max-height:1000px;max-width:1500px;overflow:auto;\">\n",
        "<table border=\"1\" class=\"dataframe\">\n",
        "  <thead>\n",
        "    <tr style=\"text-align: right;\">\n",
        "      <th></th>\n",
        "      <th>0</th>\n",
        "      <th>1</th>\n",
        "      <th>2</th>\n",
        "      <th>3</th>\n",
        "      <th>4</th>\n",
        "      <th>5</th>\n",
        "      <th>6</th>\n",
        "      <th>7</th>\n",
        "      <th>8</th>\n",
        "      <th>9</th>\n",
        "      <th>10</th>\n",
        "      <th>11</th>\n",
        "    </tr>\n",
        "  </thead>\n",
        "  <tbody>\n",
        "    <tr>\n",
        "      <th>0 </th>\n",
        "      <td> 0.000000</td>\n",
        "      <td> 1.498234</td>\n",
        "      <td> 1.601317</td>\n",
        "      <td> 0.216666</td>\n",
        "      <td> 1.373697</td>\n",
        "      <td> 1.320631</td>\n",
        "      <td> 0.925687</td>\n",
        "      <td> 0.211104</td>\n",
        "      <td> 1.177404</td>\n",
        "      <td> 1.285826</td>\n",
        "      <td> 0.650626</td>\n",
        "      <td> 1.166210</td>\n",
        "    </tr>\n",
        "    <tr>\n",
        "      <th>1 </th>\n",
        "      <td> 1.498234</td>\n",
        "      <td> 0.000000</td>\n",
        "      <td> 0.263818</td>\n",
        "      <td> 1.658129</td>\n",
        "      <td> 2.147025</td>\n",
        "      <td> 2.064196</td>\n",
        "      <td> 0.574937</td>\n",
        "      <td> 1.694247</td>\n",
        "      <td> 2.056642</td>\n",
        "      <td> 2.136295</td>\n",
        "      <td> 1.991490</td>\n",
        "      <td> 0.341205</td>\n",
        "    </tr>\n",
        "    <tr>\n",
        "      <th>2 </th>\n",
        "      <td> 1.601317</td>\n",
        "      <td> 0.263818</td>\n",
        "      <td> 0.000000</td>\n",
        "      <td> 1.780813</td>\n",
        "      <td> 2.374620</td>\n",
        "      <td> 2.292395</td>\n",
        "      <td> 0.718618</td>\n",
        "      <td> 1.806668</td>\n",
        "      <td> 2.272322</td>\n",
        "      <td> 2.356756</td>\n",
        "      <td> 2.028495</td>\n",
        "      <td> 0.525788</td>\n",
        "    </tr>\n",
        "    <tr>\n",
        "      <th>3 </th>\n",
        "      <td> 0.216666</td>\n",
        "      <td> 1.658129</td>\n",
        "      <td> 1.780813</td>\n",
        "      <td> 0.000000</td>\n",
        "      <td> 1.210774</td>\n",
        "      <td> 1.165502</td>\n",
        "      <td> 1.083388</td>\n",
        "      <td> 0.081503</td>\n",
        "      <td> 1.007772</td>\n",
        "      <td> 1.115001</td>\n",
        "      <td> 0.697919</td>\n",
        "      <td> 1.319604</td>\n",
        "    </tr>\n",
        "    <tr>\n",
        "      <th>4 </th>\n",
        "      <td> 1.373697</td>\n",
        "      <td> 2.147025</td>\n",
        "      <td> 2.374620</td>\n",
        "      <td> 1.210774</td>\n",
        "      <td> 0.000000</td>\n",
        "      <td> 0.083176</td>\n",
        "      <td> 1.710744</td>\n",
        "      <td> 1.281539</td>\n",
        "      <td> 0.208028</td>\n",
        "      <td> 0.116245</td>\n",
        "      <td> 1.869994</td>\n",
        "      <td> 1.851832</td>\n",
        "    </tr>\n",
        "    <tr>\n",
        "      <th>5 </th>\n",
        "      <td> 1.320631</td>\n",
        "      <td> 2.064196</td>\n",
        "      <td> 2.292395</td>\n",
        "      <td> 1.165502</td>\n",
        "      <td> 0.083176</td>\n",
        "      <td> 0.000000</td>\n",
        "      <td> 1.631098</td>\n",
        "      <td> 1.238479</td>\n",
        "      <td> 0.191286</td>\n",
        "      <td> 0.140904</td>\n",
        "      <td> 1.835178</td>\n",
        "      <td> 1.769992</td>\n",
        "    </tr>\n",
        "    <tr>\n",
        "      <th>6 </th>\n",
        "      <td> 0.925687</td>\n",
        "      <td> 0.574937</td>\n",
        "      <td> 0.718618</td>\n",
        "      <td> 1.083388</td>\n",
        "      <td> 1.710744</td>\n",
        "      <td> 1.631098</td>\n",
        "      <td> 0.000000</td>\n",
        "      <td> 1.119529</td>\n",
        "      <td> 1.586588</td>\n",
        "      <td> 1.678360</td>\n",
        "      <td> 1.456489</td>\n",
        "      <td> 0.241027</td>\n",
        "    </tr>\n",
        "    <tr>\n",
        "      <th>7 </th>\n",
        "      <td> 0.211104</td>\n",
        "      <td> 1.694247</td>\n",
        "      <td> 1.806668</td>\n",
        "      <td> 0.081503</td>\n",
        "      <td> 1.281539</td>\n",
        "      <td> 1.238479</td>\n",
        "      <td> 1.119529</td>\n",
        "      <td> 0.000000</td>\n",
        "      <td> 1.077010</td>\n",
        "      <td> 1.183497</td>\n",
        "      <td> 0.617042</td>\n",
        "      <td> 1.358182</td>\n",
        "    </tr>\n",
        "    <tr>\n",
        "      <th>8 </th>\n",
        "      <td> 1.177404</td>\n",
        "      <td> 2.056642</td>\n",
        "      <td> 2.272322</td>\n",
        "      <td> 1.007772</td>\n",
        "      <td> 0.208028</td>\n",
        "      <td> 0.191286</td>\n",
        "      <td> 1.586588</td>\n",
        "      <td> 1.077010</td>\n",
        "      <td> 0.000000</td>\n",
        "      <td> 0.108490</td>\n",
        "      <td> 1.662238</td>\n",
        "      <td> 1.746626</td>\n",
        "    </tr>\n",
        "    <tr>\n",
        "      <th>9 </th>\n",
        "      <td> 1.285826</td>\n",
        "      <td> 2.136295</td>\n",
        "      <td> 2.356756</td>\n",
        "      <td> 1.115001</td>\n",
        "      <td> 0.116245</td>\n",
        "      <td> 0.140904</td>\n",
        "      <td> 1.678360</td>\n",
        "      <td> 1.183497</td>\n",
        "      <td> 0.108490</td>\n",
        "      <td> 0.000000</td>\n",
        "      <td> 1.764607</td>\n",
        "      <td> 1.831677</td>\n",
        "    </tr>\n",
        "    <tr>\n",
        "      <th>10</th>\n",
        "      <td> 0.650626</td>\n",
        "      <td> 1.991490</td>\n",
        "      <td> 2.028495</td>\n",
        "      <td> 0.697919</td>\n",
        "      <td> 1.869994</td>\n",
        "      <td> 1.835178</td>\n",
        "      <td> 1.456489</td>\n",
        "      <td> 0.617042</td>\n",
        "      <td> 1.662238</td>\n",
        "      <td> 1.764607</td>\n",
        "      <td> 0.000000</td>\n",
        "      <td> 1.690931</td>\n",
        "    </tr>\n",
        "    <tr>\n",
        "      <th>11</th>\n",
        "      <td> 1.166210</td>\n",
        "      <td> 0.341205</td>\n",
        "      <td> 0.525788</td>\n",
        "      <td> 1.319604</td>\n",
        "      <td> 1.851832</td>\n",
        "      <td> 1.769992</td>\n",
        "      <td> 0.241027</td>\n",
        "      <td> 1.358182</td>\n",
        "      <td> 1.746626</td>\n",
        "      <td> 1.831677</td>\n",
        "      <td> 1.690931</td>\n",
        "      <td> 0.000000</td>\n",
        "    </tr>\n",
        "  </tbody>\n",
        "</table>\n",
        "</div>"
       ],
       "metadata": {},
       "output_type": "pyout",
       "prompt_number": 5,
       "text": [
        "          0         1         2         3         4         5         6   \\\n",
        "0   0.000000  1.498234  1.601317  0.216666  1.373697  1.320631  0.925687   \n",
        "1   1.498234  0.000000  0.263818  1.658129  2.147025  2.064196  0.574937   \n",
        "2   1.601317  0.263818  0.000000  1.780813  2.374620  2.292395  0.718618   \n",
        "3   0.216666  1.658129  1.780813  0.000000  1.210774  1.165502  1.083388   \n",
        "4   1.373697  2.147025  2.374620  1.210774  0.000000  0.083176  1.710744   \n",
        "5   1.320631  2.064196  2.292395  1.165502  0.083176  0.000000  1.631098   \n",
        "6   0.925687  0.574937  0.718618  1.083388  1.710744  1.631098  0.000000   \n",
        "7   0.211104  1.694247  1.806668  0.081503  1.281539  1.238479  1.119529   \n",
        "8   1.177404  2.056642  2.272322  1.007772  0.208028  0.191286  1.586588   \n",
        "9   1.285826  2.136295  2.356756  1.115001  0.116245  0.140904  1.678360   \n",
        "10  0.650626  1.991490  2.028495  0.697919  1.869994  1.835178  1.456489   \n",
        "11  1.166210  0.341205  0.525788  1.319604  1.851832  1.769992  0.241027   \n",
        "\n",
        "          7         8         9         10        11  \n",
        "0   0.211104  1.177404  1.285826  0.650626  1.166210  \n",
        "1   1.694247  2.056642  2.136295  1.991490  0.341205  \n",
        "2   1.806668  2.272322  2.356756  2.028495  0.525788  \n",
        "3   0.081503  1.007772  1.115001  0.697919  1.319604  \n",
        "4   1.281539  0.208028  0.116245  1.869994  1.851832  \n",
        "5   1.238479  0.191286  0.140904  1.835178  1.769992  \n",
        "6   1.119529  1.586588  1.678360  1.456489  0.241027  \n",
        "7   0.000000  1.077010  1.183497  0.617042  1.358182  \n",
        "8   1.077010  0.000000  0.108490  1.662238  1.746626  \n",
        "9   1.183497  0.108490  0.000000  1.764607  1.831677  \n",
        "10  0.617042  1.662238  1.764607  0.000000  1.690931  \n",
        "11  1.358182  1.746626  1.831677  1.690931  0.000000  "
       ]
      }
     ],
     "prompt_number": 5
    },
    {
     "cell_type": "markdown",
     "metadata": {},
     "source": [
      "## Perform hierarchical clustering\n",
      "Performing hierarchical clustering and plotting dendrogram can be done with `scipy`."
     ]
    },
    {
     "cell_type": "code",
     "collapsed": false,
     "input": [
      "# perform clustering and plot the dendrogram\n",
      "from scipy.cluster.hierarchy import linkage, dendrogram\n",
      "\n",
      "R = dendrogram(linkage(distMatrix, method='average'))"
     ],
     "language": "python",
     "metadata": {},
     "outputs": [
      {
       "metadata": {},
       "output_type": "display_data",
       "png": "[encoded data removed]",
       "text": [
        "<matplotlib.figure.Figure at 0x111110cd0>"
       ]
      }
     ],
     "prompt_number": 6
    },
    {
     "cell_type": "markdown",
     "metadata": {},
     "source": [
      "## Plot unclustered data as a heatmap\n",
      "Heatmaps help us visualize the data features."
     ]
    },
    {
     "cell_type": "code",
     "collapsed": false,
     "input": [
      "fig = plt.figure(figsize=(8,8))\n",
      "\n",
      "ax = fig.add_subplot(111)\n",
      "\n",
      "\n",
      "cax = ax.matshow(df, interpolation='nearest', cmap='hot_r')\n",
      "fig.colorbar(cax)\n",
      "ticks=np.arange(-.55,12,1)\n",
      "plt.yticks(ticks)\n",
      "ax.set_xticklabels([''] + list(df.columns))\n",
      "ax.set_yticklabels(['']+list(df.index))\n",
      "\n",
      "\n",
      "plt.show()"
     ],
     "language": "python",
     "metadata": {},
     "outputs": [
      {
       "metadata": {},
       "output_type": "display_data",
       "png": "[encoded data removed]",
       "text": [
        "<matplotlib.figure.Figure at 0x111fa5450>"
       ]
      }
     ],
     "prompt_number": 7
    },
    {
     "cell_type": "markdown",
     "metadata": {},
     "source": [
      "## Plot heatmap of data with respect to custering"
     ]
    },
    {
     "cell_type": "code",
     "collapsed": false,
     "input": [
      "# reorder rows with respect to the clustering\n",
      "df_rowclust = df.ix[R['leaves']]\n",
      "\n",
      "# plot\n",
      "fig = plt.figure(figsize=(8,8))\n",
      "ax = fig.add_subplot(111)\n",
      "\n",
      "cax = ax.matshow(df_rowclust, interpolation='nearest', cmap='hot_r')\n",
      "ticks=np.arange(-.55,12,1)\n",
      "plt.yticks(ticks)\n",
      "fig.colorbar(cax)\n",
      "\n",
      "ax.set_xticklabels([''] + list(df_rowclust.columns))\n",
      "ax.set_yticklabels([''] + list(df_rowclust.index))\n",
      "\n",
      "plt.show()"
     ],
     "language": "python",
     "metadata": {},
     "outputs": [
      {
       "metadata": {},
       "output_type": "display_data",
       "png": "[encoded data removed]",
       "text": [
        "<matplotlib.figure.Figure at 0x111fa53d0>"
       ]
      }
     ],
     "prompt_number": 8
    },
    {
     "cell_type": "markdown",
     "metadata": {},
     "source": [
      "## Plot dendogram adjacent to heat map"
     ]
    },
    {
     "cell_type": "code",
     "collapsed": false,
     "input": [
      "# plot dendrogram\n",
      "fig = plt.figure(figsize=(8,8))\n",
      "axd = fig.add_axes([0.1,0.125,0.2,0.6])\n",
      "row_dendr = dendrogram(linkage(distMatrix, method='average'),orientation = 'right') # makes dendrogram black (2))\n",
      "axd.set_xticks([])\n",
      "axd.set_yticks([])\n",
      "\n",
      "\n",
      "# Remove axes spines from dendrogram\n",
      "for i in axd.spines.values():\n",
      "    i.set_visible(False)\n",
      "\n",
      "\n",
      "# Plot heatmap\n",
      "axm = fig.add_axes([0.005,0.1,0.6,0.6]) # x-pos, y-pos, width, height\n",
      "cax = axm.matshow(df_rowclust, interpolation='nearest', cmap='hot_r', origin='lower')\n",
      "fig.colorbar(cax)\n",
      "ticks=np.arange(-.55,12,1)\n",
      "plt.yticks(ticks)\n",
      "axm.set_xticklabels([''] + list(df_rowclust.columns))\n",
      "axm.set_yticklabels([''] + list(df_rowclust.index))\n",
      "\n",
      "plt.show()"
     ],
     "language": "python",
     "metadata": {},
     "outputs": [
      {
       "metadata": {},
       "output_type": "display_data",
       "png": "[encoded data removed]",
       "text": [
        "<matplotlib.figure.Figure at 0x11219da90>"
       ]
      }
     ],
     "prompt_number": 9
    },
    {
     "cell_type": "markdown",
     "metadata": {},
     "source": [
      "# Seaborn\n",
      "Seaborn is a statistical data visualization library that automates a lot of what we did previously and does so using nice visualizations.\n",
      "\n",
      "http://stanford.edu/~mwaskom/software/seaborn/"
     ]
    },
    {
     "cell_type": "code",
     "collapsed": false,
     "input": [
      "import seaborn as sns\n",
      "sns.clustermap(df,method='average')"
     ],
     "language": "python",
     "metadata": {},
     "outputs": [
      {
       "metadata": {},
       "output_type": "pyout",
       "prompt_number": 10,
       "text": [
        "<seaborn.matrix.ClusterGrid at 0x111fb3610>"
       ]
      },
      {
       "metadata": {},
       "output_type": "display_data",
       "png": "[encoded data removed]",
       "text": [
        "<matplotlib.figure.Figure at 0x1139a9f90>"
       ]
      }
     ],
     "prompt_number": 10
    },
    {
     "cell_type": "markdown",
     "metadata": {},
     "source": [
      "# NBA Example"
     ]
    },
    {
     "cell_type": "code",
     "collapsed": false,
     "input": [
      "import pandas as pd\n",
      "\n",
      "data = pd.read_csv('BasketBallStats.csv', index_col=0)\n",
      "data.index = data.index.map(lambda x: x.strip())\n",
      "\n",
      "# label source:https://en.wikipedia.org/wiki/Basketball_statistics\n",
      "labels = ['Games', 'Minutes', 'Points', 'Field goals made',\n",
      "          'Field goal attempts', 'Field goal percentage', 'Free throws made',\n",
      "          'Free throws attempts', 'Free throws percentage',\n",
      "          'Three-pointers made', 'Three-point attempt',\n",
      "          'Three-point percentage', 'Offensive rebounds', 'Defensive rebounds',\n",
      "          'Total rebounds', 'Assists', 'Steals', 'Blocks', 'Turnover',\n",
      "          'Personal foul']\n",
      "data.columns = labels"
     ],
     "language": "python",
     "metadata": {},
     "outputs": [],
     "prompt_number": 11
    },
    {
     "cell_type": "markdown",
     "metadata": {},
     "source": [
      "## Data Normalization\n",
      "It is important to standardize data when features have values that are disproportionate to other features (e.g., values of \"Games\" and \"Minutes\" are so much larger than the others).\n",
      "\n",
      "One way to standardize data is to subtract the mean and divide by the standard deviation.  This is called a z-score."
     ]
    },
    {
     "cell_type": "code",
     "collapsed": false,
     "input": [
      "data_normalized = data\n",
      "data_normalized = (data_normalized - data_normalized.mean())/data_normalized.std()"
     ],
     "language": "python",
     "metadata": {},
     "outputs": [],
     "prompt_number": 12
    },
    {
     "cell_type": "markdown",
     "metadata": {},
     "source": [
      "## Exercise 1\n",
      "Use seaborn clustermap function to perform hierarchical clustering and visualization of:\n",
      "1. The un-normalized NBA data (data)\n",
      "2. The normalized NBA data (data_normalized)\n",
      "\n",
      "Who does Lebron James most look like, in terms of NBA stats?\n"
     ]
    },
    {
     "cell_type": "code",
     "collapsed": false,
     "input": [
      "# Your code goes here"
     ],
     "language": "python",
     "metadata": {},
     "outputs": [],
     "prompt_number": 13
    },
    {
     "cell_type": "markdown",
     "metadata": {},
     "source": [
      "## Exercise 2\n",
      "Experiment with different distance measures (e.g., complete, single, centroid)"
     ]
    },
    {
     "cell_type": "code",
     "collapsed": false,
     "input": [
      "# Your code goes here"
     ],
     "language": "python",
     "metadata": {},
     "outputs": []
    }
   ],
   "metadata": {}
  }
 ]
}