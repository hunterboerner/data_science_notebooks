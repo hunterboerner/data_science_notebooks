{
 "metadata": {
  "name": "",
  "signature": "sha256:0077ea472f88559758a9ce57d7dd66ed97a472a90d0e804395c515d22595a3ab"
 },
 "nbformat": 3,
 "nbformat_minor": 0,
 "worksheets": [
  {
   "cells": [
    {
     "cell_type": "markdown",
     "metadata": {},
     "source": [
      "# Scatter Plot\n",
      "Scatter plots can be used to look at the values of two variables with respect to each other."
     ]
    },
    {
     "cell_type": "code",
     "collapsed": false,
     "input": [
      "import numpy as np\n",
      "import matplotlib.pyplot as plt# Load data\n",
      "import pandas as pd\n",
      "import numpy as np\n",
      "%matplotlib inline\n",
      "\n",
      "# Import data\n",
      "df = pd.read_csv('/Users/annette/Desktop/IntroToDataScienceClass/Lesson1/Numpy and Pandas/TitanicData.csv')\n",
      "\n",
      "plt.scatter(df.Fare,df.Age)\n",
      "plt.xlabel('Fare')\n",
      "plt.ylabel('Age')"
     ],
     "language": "python",
     "metadata": {},
     "outputs": []
    },
    {
     "cell_type": "markdown",
     "metadata": {},
     "source": [
      "Here we see that passangers in first class have a larger variation in fare and **often** pay more than third class."
     ]
    },
    {
     "cell_type": "code",
     "collapsed": false,
     "input": [
      "plt.scatter(df['Fare'][df['Pclass']==3],df['Age'][df['Pclass']==3],c='Green',label = 'Class 3')\n",
      "plt.scatter(df['Fare'][df['Pclass']==1],df['Age'][df['Pclass']==1],c='Red',label = 'Class 1')"
     ],
     "language": "python",
     "metadata": {},
     "outputs": []
    },
    {
     "cell_type": "markdown",
     "metadata": {},
     "source": [
      "# Box plot\n",
      "Box plots are useful for showing data spread as well as indicating whether a distribution is skewed and/or has potential unusual observations (outliers).\n",
      "\n",
      "The lower edge of the box corresponds to the 25th percentile, the upper edge to the 75th percentile, and the line in the box corresponds to the 50th percentile (median).  The delta between the 75th and 25th percentile is called the interquartile range (IQR).  The wiskers can be assigned any value, but usually they are placed at 1.5*IQR.  For symmetric distributions (e.g., bell-shaped curves) the median line will lie exatly in the middle of the box.\n",
      "\n",
      "<img src=\"BoxPlot.png\">\n",
      "Taken from: <http://en.wikipedia.org/wiki/Box_plot>"
     ]
    },
    {
     "cell_type": "markdown",
     "metadata": {},
     "source": [
      "### Example: Titanic Data"
     ]
    },
    {
     "cell_type": "code",
     "collapsed": false,
     "input": [
      "df.boxplot(column='Age', by='Pclass', grid=False)"
     ],
     "language": "python",
     "metadata": {},
     "outputs": []
    },
    {
     "cell_type": "code",
     "collapsed": false,
     "input": [
      "# You can plot the data on the box plot to further visualize the data spread\n",
      "df.boxplot(column='Age', by='Pclass', grid=False)\n",
      "for i in [1,2,3]:\n",
      "    y = df.Age[df.Pclass==i].dropna()\n",
      "    x = i *np.ones(y.size)\n",
      "    plt.plot(x, y, 'r.', alpha=0.2)"
     ],
     "language": "python",
     "metadata": {},
     "outputs": []
    },
    {
     "cell_type": "code",
     "collapsed": false,
     "input": [
      "# When data is too tight, you can add some jitter (random noise) to better visualize.\n",
      "df.boxplot(column='Age', by='Pclass', grid=False)\n",
      "for i in [1,2,3]:\n",
      "    y = df.Age[df.Pclass==i].dropna()\n",
      "    # Add some random \"jitter\" to the x-axis\n",
      "    x = np.random.normal(i, 0.04, size=len(y))\n",
      "    plt.plot(x, y, 'r.', alpha=0.2)"
     ],
     "language": "python",
     "metadata": {},
     "outputs": []
    },
    {
     "cell_type": "markdown",
     "metadata": {},
     "source": [
      "# Bar Charts\n",
      "Bar charts are charts with rectangular bars that have lengths proportional to the values that they represent. "
     ]
    },
    {
     "cell_type": "code",
     "collapsed": false,
     "input": [
      "# The dataframe has built-in methods that allow you to make different kinds of plots.\n",
      "# Number of people in each class\n",
      "df.groupby('Pclass').PassengerId.count().plot(kind='bar')"
     ],
     "language": "python",
     "metadata": {},
     "outputs": []
    },
    {
     "cell_type": "code",
     "collapsed": false,
     "input": [
      "# You can use cross tabulations to look at joint frequency distributions\n",
      "survivalClassInfo = pd.crosstab(df.Pclass, df.Survived)\n",
      "survivalClassInfo"
     ],
     "language": "python",
     "metadata": {},
     "outputs": []
    },
    {
     "cell_type": "code",
     "collapsed": false,
     "input": [
      "# You can then visualize the cross tabulation via stacked bar charts\n",
      "survivalClassInfo.plot(kind='bar', stacked=True, color=['Blue','Red'], grid=False)"
     ],
     "language": "python",
     "metadata": {},
     "outputs": []
    },
    {
     "cell_type": "code",
     "collapsed": false,
     "input": [
      "# Look at gender by class\n",
      "genderClassInfo = pd.crosstab(df.Pclass, df.Sex)\n",
      "\n",
      "# You can then visualize the cross tabulation via stacked bar charts\n",
      "genderClassInfo.plot(kind='bar', stacked=True, color=['Blue','Red'], grid=False)"
     ],
     "language": "python",
     "metadata": {},
     "outputs": []
    },
    {
     "cell_type": "code",
     "collapsed": false,
     "input": [
      "# You can look at the data in terms of percent total.\n",
      "genderClassInfo.div(genderClassInfo.sum(1).astype(float), axis=0).plot(kind='barh', stacked=True, color=['Blue','Red'])"
     ],
     "language": "python",
     "metadata": {},
     "outputs": []
    },
    {
     "cell_type": "markdown",
     "metadata": {},
     "source": [
      "You can visualize stats with bar charts"
     ]
    },
    {
     "cell_type": "code",
     "collapsed": false,
     "input": [
      "df.groupby('Pclass')['Fare'].mean().plot(kind='bar', yerr=df.groupby('Pclass')['Fare'].std())"
     ],
     "language": "python",
     "metadata": {},
     "outputs": []
    },
    {
     "cell_type": "markdown",
     "metadata": {},
     "source": [
      "# Histogram\n",
      "You can use histograms to look at the distribution of data. Histograms are a sort of bar graph that displays relative frequencies of data values (can either be raw counts of values or scaled proportions).  The former is achieved by binning the data and getting counts."
     ]
    },
    {
     "cell_type": "code",
     "collapsed": false,
     "input": [
      "# Here we are looking at the distribution of fares.  \n",
      "# The bin width = $50 dollars\n",
      "df.Fare.hist(grid=False)"
     ],
     "language": "python",
     "metadata": {},
     "outputs": []
    },
    {
     "cell_type": "code",
     "collapsed": false,
     "input": [
      "# You can set the number of bins to get finer or coarser resolution.\n",
      "df.Fare.hist(grid=False,bins = 30)"
     ],
     "language": "python",
     "metadata": {},
     "outputs": []
    },
    {
     "cell_type": "markdown",
     "metadata": {},
     "source": [
      "### Density Plots\n",
      "A density plot is similar to a histogram in that it describes the distribution of the underlying data, but rather than being a pure empirical representation, it is an estimate of the underlying \"true\" distribution. As a result, it is smoothed into a continuous line plot. We create them in Pandas using the plot method with kind='kde', where kde stands for kernel density estimate.\n",
      "\n",
      "<img src=\"KernelDensityEstimation.png\">"
     ]
    },
    {
     "cell_type": "code",
     "collapsed": false,
     "input": [
      "df.Fare.plot(kind='kde', xlim=(0,600))"
     ],
     "language": "python",
     "metadata": {},
     "outputs": []
    },
    {
     "cell_type": "code",
     "collapsed": false,
     "input": [
      "# Age dsitribution by class\n",
      "df.Age[df.Pclass == 1].dropna().plot(kind='kde',label = 'Class 1',legend = True)   \n",
      "df.Age[df.Pclass == 2].dropna().plot(kind='kde',label = 'Class 2',legend = True) \n",
      "df.Age[df.Pclass == 3].dropna().plot(kind='kde',label = 'Class 3',legend = True) \n",
      " \n",
      "plt.xlabel(\"Age\")    \n",
      "plt.title(\"Age Distribution within classes\")"
     ],
     "language": "python",
     "metadata": {},
     "outputs": []
    },
    {
     "cell_type": "code",
     "collapsed": false,
     "input": [],
     "language": "python",
     "metadata": {},
     "outputs": []
    }
   ],
   "metadata": {}
  }
 ]
}