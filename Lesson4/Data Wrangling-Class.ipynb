{
 "metadata": {
  "name": "",
  "signature": "sha256:963bd1746d9b4e1bd11912f37cb088f3f586f1b0dc473fc0b751aad12f92162c"
 },
 "nbformat": 3,
 "nbformat_minor": 0,
 "worksheets": [
  {
   "cells": [
    {
     "cell_type": "markdown",
     "metadata": {},
     "source": [
      "##Exercise 1"
     ]
    },
    {
     "cell_type": "code",
     "collapsed": false,
     "input": [
      "import pandas\n",
      "\n",
      "# Read in a csv file with the same columns that the\n",
      "# Lahman baseball data set has -- most importantly, there are columns\n",
      "# called 'nameFirst' and 'nameLast'.\n",
      "    \n",
      "# (1) Write a function that reads a csv\n",
      "#    located at \"path_to_csv\" into a pandas dataframe \n",
      "#    and adds a new column called 'nameFull' with a player's full name.\n",
      "#\n",
      "#    For example:\n",
      "#    for Hank Aaron, nameFull would be 'Hank Aaron', \n",
      "#\n",
      "# (2) Write the data in the pandas dataFrame to a new csv file located at\n",
      "#      path_to_new_csv\n",
      "\n",
      "# WRITE YOUR CODE HERE"
     ],
     "language": "python",
     "metadata": {},
     "outputs": [],
     "prompt_number": 1
    },
    {
     "cell_type": "markdown",
     "metadata": {},
     "source": [
      "## Exercise 2 (Queries)"
     ]
    },
    {
     "cell_type": "code",
     "collapsed": false,
     "input": [
      "import pandas\n",
      "import pandasql\n",
      "\n",
      "\n",
      "# Read in our aadhaar_data csv to a pandas dataframe.  Afterwards, we rename the columns\n",
      "# by replacing spaces with underscores and setting all characters to lowercase, so the\n",
      "# column names more closely resemble columns names one might find in a table.\n",
      "aadhaar_data = pandas.read_csv('aadhaar_data.csv')\n",
      "aadhaar_data.rename(columns = lambda x: x.replace(' ', '_').lower(), inplace=True)\n",
      "\n",
      "\n",
      "# The possible columns to select from aadhaar data are:\n",
      "#     1) registrar\n",
      "#     2) enrolment_agency\n",
      "#     3) state\n",
      "#     4) district\n",
      "#     5) sub_district\n",
      "#     6) pin_code\n",
      "#     7) gender\n",
      "#     8) age\n",
      "#     9) aadhaar_generated\n",
      "#     10) enrolment_rejected\n",
      "#     11) residents_providing_email,\n",
      "#     12) residents_providing_mobile_number\n",
      "   \n",
      "\n",
      "# Select out the first 50 values for \"registrar\" and \"enrolment_agency\"\n",
      "# in the aadhaar_data table using SQL syntax. \n",
      "#\n",
      "# The order of the select does matter. Make sure you select registrar then enrolment agency\n",
      "# in your query.\n",
      "q = \"\"\"\n",
      "-- YOUR QUERY HERE\n",
      "\"\"\"\n",
      "\n",
      "#Execute your SQL command against the pandas frame\n",
      "# Note: the sqldf accepts: (1) a sql query string and (2) set of session/environment variables (locals() or globals())\n",
      "aadhaar_solution = pandasql.sqldf(q.lower(), locals())"
     ],
     "language": "python",
     "metadata": {},
     "outputs": [],
     "prompt_number": 2
    },
    {
     "cell_type": "markdown",
     "metadata": {},
     "source": [
      "## Exercise 2 (Aggregate Queries)\n",
      "In your query, please list gender first and then district. aadhaar_generated is a column in the Aadhaar Data that denotes the number of Aadhaar approved."
     ]
    },
    {
     "cell_type": "code",
     "collapsed": false,
     "input": [
      "# Write a query that will select from the aadhaar_data table how many men and how \n",
      "# many women over the age of 50 have had aadhaar generated for them in each district\n",
      "#\n",
      "# Note: \n",
      "# (1) The SQL query keywords are case sensitive. \n",
      "# Therefore, if you want to do a sum make sure you type 'sum' rather than 'SUM'.\n",
      "#\n",
      "# (2) Do not include a space between the function and argument(s). \n",
      "# For example, count(some_field) will be interpreted correctly, count (some_field) will not.\n",
      "\n",
      "# In your query, please list gender first and then district. \n",
      "# aadhaar_generated is a column in the Aadhaar Data that denotes the number of Aadhaar approved.\n",
      "\n",
      "If you need to use an aggregate function (such as sum, count, mean, max) use it in lower-case, for example: sum(some_field). Do not include a space between the function and argument(s). For example, count(some_field) will be interpreted correctly, count (some_field) will not.    \n",
      "q = \"\"\n",
      "\n",
      "\n",
      "# Execute your SQL command against the pandas frame\n",
      "aadhaar_solution = pandasql.sqldf(q.lower(), locals())"
     ],
     "language": "python",
     "metadata": {},
     "outputs": [],
     "prompt_number": 8
    },
    {
     "cell_type": "markdown",
     "metadata": {},
     "source": [
      "## Exercise 3 (Aggregate Queries)"
     ]
    },
    {
     "cell_type": "code",
     "collapsed": false,
     "input": [
      "\n",
      "# Write a SQL query on a dataframe of weather data.  \n",
      "# The SQL query should return one column and\n",
      "# one row - a count of the number of days in the dataframe where\n",
      "# the rain column is equal to 1 (i.e., the number of days it\n",
      "# rained).  \n",
      "# You might find SQL's count function useful for this exercise.  \n",
      "# You can read more about it here: \n",
      "# https://dev.mysql.com/doc/refman/5.1/en/counting-rows.html\n",
      "\n",
      "weather_data = pandas.read_csv('weather_underground.csv')\n",
      "\n",
      "q = \"\"\n",
      " \n",
      "#Execute your SQL command against the pandas frame\n",
      "rainy_days = pandasql.sqldf(q.lower(), locals())\n"
     ],
     "language": "python",
     "metadata": {},
     "outputs": [],
     "prompt_number": 4
    },
    {
     "cell_type": "markdown",
     "metadata": {},
     "source": [
      "## Exercise 4 (Aggregate Queries)"
     ]
    },
    {
     "cell_type": "code",
     "collapsed": false,
     "input": [
      "# Write a SQL query on a dataframe of\n",
      "# weather data.  The SQL query should return two columns and\n",
      "# two rows - whether it was foggy or not (0 or 1) and the max\n",
      "# maxtempi for that fog value (i.e., the maximum max temperature\n",
      "# for both foggy and non-foggy days).    \n",
      "\n",
      "q = \"\"\n",
      "    \n",
      "#Execute your SQL command against the pandas frame\n",
      "foggy_days = pandasql.sqldf(q.lower(), locals())\n",
      "\n"
     ],
     "language": "python",
     "metadata": {},
     "outputs": [],
     "prompt_number": 5
    },
    {
     "cell_type": "code",
     "collapsed": false,
     "input": [
      "\n",
      "#Write a SQL query on a dataframe of weather data.  \n",
      "# The SQL query should return one column and\n",
      "# one row - the average meantempi on days that are a Saturday\n",
      "# or Sunday (i.e., the the average mean temperature on weekends).\n",
      "# You can access the date in the dataframe via the 'date' column.\n",
      "#\n",
      "# Also, you can convert dates to days of the week via the 'strftime' keyword in SQL.\n",
      "# For example, cast (strftime('%w', date) as integer) will return 0 if the date\n",
      "# is a Sunday or 6 if the date is a Saturday.\n",
      "\n",
      "q =\"\"\n",
      "    \n",
      "#Execute your SQL command against the pandas frame\n",
      "mean_temp_weekends = pandasql.sqldf(q.lower(), locals())\n"
     ],
     "language": "python",
     "metadata": {},
     "outputs": [],
     "prompt_number": 6
    },
    {
     "cell_type": "code",
     "collapsed": false,
     "input": [
      "import pandas\n",
      "import pandasql\n",
      "\n",
      "\n",
      "# Write SQL query on a dataframe of weather data. \n",
      "# More specifically you want to find the average\n",
      "# minimum temperature on rainy days where the minimum temperature\n",
      "# is greater than 55 degrees.\n",
      "\n",
      "q = \"\"\n",
      "#Execute your SQL command against the pandas frame\n",
      "avg_min_temp_rainy = pandasql.sqldf(q.lower(), locals())\n"
     ],
     "language": "python",
     "metadata": {},
     "outputs": [],
     "prompt_number": 7
    }
   ],
   "metadata": {}
  }
 ]
}