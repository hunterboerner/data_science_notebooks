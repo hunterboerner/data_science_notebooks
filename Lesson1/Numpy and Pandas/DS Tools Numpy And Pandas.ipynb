{
 "metadata": {
  "name": "",
  "signature": "sha256:904d8182d1a01ff28e9021ce071a69bc243ab4429e322f5b00359136869b7655"
 },
 "nbformat": 3,
 "nbformat_minor": 0,
 "worksheets": [
  {
   "cells": [
    {
     "cell_type": "markdown",
     "metadata": {},
     "source": [
      "# Data Science Tools: Numpy and Pandas\n",
      "\n",
      "Both Numpy and Pandas are common tools used by Data Scientist.  \n",
      "\n",
      "1. Numpy\n",
      "    1. Multidimensional arrays and matrices\n",
      "    2. Mathematical functions\n",
      "2. Pandas\n",
      "    1. Structure and manipulate data in ways well suited for data analysis\n",
      "  "
     ]
    },
    {
     "cell_type": "markdown",
     "metadata": {},
     "source": [
      "## Numpy\n",
      "Numpy is a library that is especially useful for when you want to work with large arrays and matrices of numeric data.  Numpy is optimized to run fast, much faster than working with Python lists directly.  \n",
      "\n",
      "At the foundation of Numpy is the array object class.  Numpy arrays are like python lists except that every element in the array has to be of the same type."
     ]
    },
    {
     "cell_type": "code",
     "collapsed": false,
     "input": [
      "import numpy as np\n",
      "array = np.array([1,2,3,4,5],float)"
     ],
     "language": "python",
     "metadata": {},
     "outputs": [],
     "prompt_number": 2
    },
    {
     "cell_type": "code",
     "collapsed": false,
     "input": [
      "import numpy as np\n",
      "array = np.array([1,2,3,4,5],float)\n",
      "print array\n",
      "matrix = np.array([[1,2,3,4],[5,6,7,8]],float)\n",
      "print matrix"
     ],
     "language": "python",
     "metadata": {},
     "outputs": [
      {
       "output_type": "stream",
       "stream": "stdout",
       "text": [
        "[ 1.  2.  3.  4.  5.]\n",
        "[[ 1.  2.  3.  4.]\n",
        " [ 5.  6.  7.  8.]]\n"
       ]
      }
     ],
     "prompt_number": 3
    },
    {
     "cell_type": "markdown",
     "metadata": {},
     "source": [
      "You can index, slice, and manipulate a numpy array much like you do Python lists"
     ]
    },
    {
     "cell_type": "code",
     "collapsed": false,
     "input": [
      "print array[1]\n",
      "print array[:2]\n",
      "print array[3:]"
     ],
     "language": "python",
     "metadata": {},
     "outputs": [
      {
       "output_type": "stream",
       "stream": "stdout",
       "text": [
        "2.0\n",
        "[ 1.  2.]\n",
        "[ 4.  5.]\n"
       ]
      }
     ],
     "prompt_number": 4
    },
    {
     "cell_type": "code",
     "collapsed": false,
     "input": [
      "print matrix[1][1]\n",
      "print matrix[1,:]\n",
      "print matrix[:,1]"
     ],
     "language": "python",
     "metadata": {},
     "outputs": [
      {
       "output_type": "stream",
       "stream": "stdout",
       "text": [
        "6.0\n",
        "[ 5.  6.  7.  8.]\n",
        "[ 2.  6.]\n"
       ]
      }
     ],
     "prompt_number": 5
    },
    {
     "cell_type": "markdown",
     "metadata": {},
     "source": [
      "You can perform arithmetic operations on Numpy arrays"
     ]
    },
    {
     "cell_type": "code",
     "collapsed": false,
     "input": [
      "array1 = np.array([1,2],float)\n",
      "array2 = np.array([3,4],float)\n",
      "\n",
      "print array1 + array2\n",
      "print array1 - array2\n",
      "print array1 * array2\n",
      "print array1 / array2"
     ],
     "language": "python",
     "metadata": {},
     "outputs": [
      {
       "output_type": "stream",
       "stream": "stdout",
       "text": [
        "[ 4.  6.]\n",
        "[-2. -2.]\n",
        "[ 3.  8.]\n",
        "[ 0.33333333  0.5       ]\n"
       ]
      }
     ],
     "prompt_number": 6
    },
    {
     "cell_type": "code",
     "collapsed": false,
     "input": [
      "matrix1 = np.array([[1,2],[3,4]],float)\n",
      "matrix2 = np.array([[5,6],[7,8]],float)\n",
      "\n",
      "print matrix1 + matrix2\n",
      "print matrix1 - matrix2\n",
      "print matrix1 * matrix2\n",
      "print matrix1 / matrix2"
     ],
     "language": "python",
     "metadata": {},
     "outputs": [
      {
       "output_type": "stream",
       "stream": "stdout",
       "text": [
        "[[  6.   8.]\n",
        " [ 10.  12.]]\n",
        "[[-4. -4.]\n",
        " [-4. -4.]]\n",
        "[[  5.  12.]\n",
        " [ 21.  32.]]\n",
        "[[ 0.2         0.33333333]\n",
        " [ 0.42857143  0.5       ]]\n"
       ]
      }
     ],
     "prompt_number": 7
    },
    {
     "cell_type": "markdown",
     "metadata": {},
     "source": [
      "In addition to arithmetic operations, Numpy has a number of other mathematical operations you can apply (e.g., mean, median, standard deviation, dot product)"
     ]
    },
    {
     "cell_type": "code",
     "collapsed": false,
     "input": [
      "# Functions useful for statistical analysis\n",
      "array1 = np.arange(1,6)\n",
      "\n",
      "print array1\n",
      "print np.mean(array1)\n",
      "print np.median(array1)\n",
      "print np.std(array1)"
     ],
     "language": "python",
     "metadata": {},
     "outputs": [
      {
       "output_type": "stream",
       "stream": "stdout",
       "text": [
        "[1 2 3 4 5]\n",
        "3.0\n",
        "3.0\n",
        "1.41421356237\n"
       ]
      }
     ],
     "prompt_number": 8
    },
    {
     "cell_type": "raw",
     "metadata": {},
     "source": [
      "Refresher\n",
      "Dot product formula:\n",
      "a = [a1,a2,a3]\n",
      "b = [b1,b2,b3]\n",
      "\n",
      "dot(a,b) = a1xb1 + a2xb2 + a3xb3\n",
      "\n",
      "For more info on Numpy.dot go to:\n",
      "http://docs.scipy.org/doc/numpy/reference/generated/numpy.dot.html"
     ]
    },
    {
     "cell_type": "code",
     "collapsed": false,
     "input": [
      "# Dot product\n",
      "array2 = np.arange(3,8)\n",
      "print array1\n",
      "print array2\n",
      "\n",
      "print(np.dot(array1,array2))"
     ],
     "language": "python",
     "metadata": {},
     "outputs": [
      {
       "output_type": "stream",
       "stream": "stdout",
       "text": [
        "[1 2 3 4 5]\n",
        "[3 4 5 6 7]\n",
        "85\n"
       ]
      }
     ],
     "prompt_number": 9
    },
    {
     "cell_type": "code",
     "collapsed": false,
     "input": [
      "# Dot product (matrix)\n",
      "oneDArray= np.array([1,2])\n",
      "twoDArray = np.array([[2,4,6],[3,5,7]])\n",
      "\n",
      "print np.dot(oneDArray,twoDArray)\n"
     ],
     "language": "python",
     "metadata": {},
     "outputs": [
      {
       "output_type": "stream",
       "stream": "stdout",
       "text": [
        "[ 8 14 20]\n"
       ]
      }
     ],
     "prompt_number": 10
    },
    {
     "cell_type": "markdown",
     "metadata": {},
     "source": [
      "## Pandas\n",
      "\n",
      "Data can be stored and referenced using Pandas.  \n",
      "\n",
      "Data in Pandas is often stored in a structure called the dataframe.  A dataframe is a 2D labled data structure with columns that can be different types."
     ]
    },
    {
     "cell_type": "heading",
     "level": 3,
     "metadata": {},
     "source": [
      "Dataframe"
     ]
    },
    {
     "cell_type": "code",
     "collapsed": false,
     "input": [
      "from pandas import DataFrame, Series\n"
     ],
     "language": "python",
     "metadata": {},
     "outputs": [],
     "prompt_number": 11
    },
    {
     "cell_type": "code",
     "collapsed": false,
     "input": [
      "# Create a dictionary where the key = name of columns and the value is a corresponding series\n",
      "# Value -> 1st pass the data you want in dataframe and index where you want the data to go\n",
      "#\n",
      "# You can think about a Series as a one-dimensional object that is similar to an array, \n",
      "# list, or column in a database.  By default it will assign an index label to each to each \n",
      "# item in the Series ranging from zero to N-1, where N is the number of items in the series.\n",
      "#\n",
      "data = {'name':Series(['Braund','Cummings','Heikkinen','Allen'],index = ['a','b','c','d']),\n",
      "        'age':Series([22,38,26,35],index = ['a','b','c','d']),\n",
      "        'Fare':Series([7.25,71.83,8.05],index = ['a','b','d']),\n",
      "        'Survived':Series([False,True,True,False],index = ['a','b','c','d'])}                                    "
     ],
     "language": "python",
     "metadata": {},
     "outputs": [],
     "prompt_number": 12
    },
    {
     "cell_type": "code",
     "collapsed": false,
     "input": [
      "# Pass data as a argument to the data frame function to create the actual data frame\n",
      "df = DataFrame(data)\n",
      "print df"
     ],
     "language": "python",
     "metadata": {},
     "outputs": [
      {
       "output_type": "stream",
       "stream": "stdout",
       "text": [
        "    Fare Survived  age       name\n",
        "a   7.25    False   22     Braund\n",
        "b  71.83     True   38   Cummings\n",
        "c    NaN     True   26  Heikkinen\n",
        "d   8.05    False   35      Allen\n",
        "\n",
        "[4 rows x 4 columns]\n"
       ]
      }
     ],
     "prompt_number": 13
    },
    {
     "cell_type": "heading",
     "level": 3,
     "metadata": {},
     "source": [
      "Accesing Data Column Data"
     ]
    },
    {
     "cell_type": "code",
     "collapsed": false,
     "input": [
      "# You can operate on specific columns by calling them as if they were a key in a dictionary.\n",
      "# You can access one column.  When you do, you get a Series\n",
      "print df['name']"
     ],
     "language": "python",
     "metadata": {},
     "outputs": [
      {
       "output_type": "stream",
       "stream": "stdout",
       "text": [
        "a       Braund\n",
        "b     Cummings\n",
        "c    Heikkinen\n",
        "d        Allen\n",
        "Name: name, dtype: object\n"
       ]
      }
     ],
     "prompt_number": 14
    },
    {
     "cell_type": "code",
     "collapsed": false,
     "input": [
      "# You can access multiple columns by passing list of column names.  \n",
      "# When you do, you get back a dataframe.\n",
      "df[['name','age','Survived']]"
     ],
     "language": "python",
     "metadata": {},
     "outputs": [
      {
       "html": [
        "<div style=\"max-height:1000px;max-width:1500px;overflow:auto;\">\n",
        "<table border=\"1\" class=\"dataframe\">\n",
        "  <thead>\n",
        "    <tr style=\"text-align: right;\">\n",
        "      <th></th>\n",
        "      <th>name</th>\n",
        "      <th>age</th>\n",
        "      <th>Survived</th>\n",
        "    </tr>\n",
        "  </thead>\n",
        "  <tbody>\n",
        "    <tr>\n",
        "      <th>a</th>\n",
        "      <td>    Braund</td>\n",
        "      <td> 22</td>\n",
        "      <td> False</td>\n",
        "    </tr>\n",
        "    <tr>\n",
        "      <th>b</th>\n",
        "      <td>  Cummings</td>\n",
        "      <td> 38</td>\n",
        "      <td>  True</td>\n",
        "    </tr>\n",
        "    <tr>\n",
        "      <th>c</th>\n",
        "      <td> Heikkinen</td>\n",
        "      <td> 26</td>\n",
        "      <td>  True</td>\n",
        "    </tr>\n",
        "    <tr>\n",
        "      <th>d</th>\n",
        "      <td>     Allen</td>\n",
        "      <td> 35</td>\n",
        "      <td> False</td>\n",
        "    </tr>\n",
        "  </tbody>\n",
        "</table>\n",
        "<p>4 rows \u00d7 3 columns</p>\n",
        "</div>"
       ],
       "metadata": {},
       "output_type": "pyout",
       "prompt_number": 15,
       "text": [
        "        name  age Survived\n",
        "a     Braund   22    False\n",
        "b   Cummings   38     True\n",
        "c  Heikkinen   26     True\n",
        "d      Allen   35    False\n",
        "\n",
        "[4 rows x 3 columns]"
       ]
      }
     ],
     "prompt_number": 15
    },
    {
     "cell_type": "heading",
     "level": 6,
     "metadata": {},
     "source": [
      "Subseting dataframe using true/false statements on columns"
     ]
    },
    {
     "cell_type": "code",
     "collapsed": false,
     "input": [
      "print df\n",
      "\n",
      "# Select rows in which the passanger age >= 30\n",
      "print df[df['age']>= 30]"
     ],
     "language": "python",
     "metadata": {},
     "outputs": [
      {
       "output_type": "stream",
       "stream": "stdout",
       "text": [
        "    Fare Survived  age       name\n",
        "a   7.25    False   22     Braund\n",
        "b  71.83     True   38   Cummings\n",
        "c    NaN     True   26  Heikkinen\n",
        "d   8.05    False   35      Allen\n",
        "\n",
        "[4 rows x 4 columns]\n",
        "    Fare Survived  age      name\n",
        "b  71.83     True   38  Cummings\n",
        "d   8.05    False   35     Allen\n",
        "\n",
        "[2 rows x 4 columns]\n"
       ]
      }
     ],
     "prompt_number": 16
    },
    {
     "cell_type": "code",
     "collapsed": false,
     "input": [
      "# You can also perform the above operation on particular columns\n",
      "# Example: Get 'Survived' information for passagengers whose age >= 30\n",
      "# Notes: \n",
      "# df['Survived'] only picks out data from the 'Survived' column \n",
      "# df['Survived'][df['age']>= 30] picks indices where this statment 'df[age] > 30' is true.\n",
      "print df\n",
      "print df['Survived'][df['age'] >= 30] \n"
     ],
     "language": "python",
     "metadata": {},
     "outputs": [
      {
       "output_type": "stream",
       "stream": "stdout",
       "text": [
        "    Fare Survived  age       name\n",
        "a   7.25    False   22     Braund\n",
        "b  71.83     True   38   Cummings\n",
        "c    NaN     True   26  Heikkinen\n",
        "d   8.05    False   35      Allen\n",
        "\n",
        "[4 rows x 4 columns]\n",
        "b     True\n",
        "d    False\n",
        "Name: Survived, dtype: bool\n"
       ]
      }
     ],
     "prompt_number": 17
    },
    {
     "cell_type": "heading",
     "level": 3,
     "metadata": {},
     "source": [
      "Pandas Row Indexing"
     ]
    },
    {
     "cell_type": "markdown",
     "metadata": {},
     "source": [
      "You can access rows through multiple ways\n",
      "1. An individual index (through the functions loc and iloc)\n",
      "2. Slicing\n",
      "3. Boolean indexing\n",
      "\n",
      "You could also combine multiple selection requirements through boolean operators like & (and) and | (or)"
     ]
    },
    {
     "cell_type": "heading",
     "level": 6,
     "metadata": {},
     "source": [
      "Index (loc,iloc)"
     ]
    },
    {
     "cell_type": "code",
     "collapsed": false,
     "input": [
      "print df\n",
      "\n",
      "# Get row corresponding to passenger \"Braund\", whose index is a\n",
      "print df.loc['a']\n",
      "print \"\"\n",
      "\n",
      "# You can also access via integer position\n",
      "print df.iloc[[1]]"
     ],
     "language": "python",
     "metadata": {},
     "outputs": [
      {
       "output_type": "stream",
       "stream": "stdout",
       "text": [
        "    Fare Survived  age       name\n",
        "a   7.25    False   22     Braund\n",
        "b  71.83     True   38   Cummings\n",
        "c    NaN     True   26  Heikkinen\n",
        "d   8.05    False   35      Allen\n",
        "\n",
        "[4 rows x 4 columns]\n",
        "Fare          7.25\n",
        "Survived     False\n",
        "age             22\n",
        "name        Braund\n",
        "Name: a, dtype: object\n",
        "\n",
        "    Fare Survived  age      name\n",
        "b  71.83     True   38  Cummings\n",
        "\n",
        "[1 rows x 4 columns]\n"
       ]
      }
     ],
     "prompt_number": 18
    },
    {
     "cell_type": "heading",
     "level": 6,
     "metadata": {},
     "source": [
      "Boolean Indexing "
     ]
    },
    {
     "cell_type": "code",
     "collapsed": false,
     "input": [
      "print df\n",
      "\n",
      "# Example: find the passengers with age >= 30\n",
      "print df[df['age']>= 30]"
     ],
     "language": "python",
     "metadata": {},
     "outputs": [
      {
       "output_type": "stream",
       "stream": "stdout",
       "text": [
        "    Fare Survived  age       name\n",
        "a   7.25    False   22     Braund\n",
        "b  71.83     True   38   Cummings\n",
        "c    NaN     True   26  Heikkinen\n",
        "d   8.05    False   35      Allen\n",
        "\n",
        "[4 rows x 4 columns]\n",
        "    Fare Survived  age      name\n",
        "b  71.83     True   38  Cummings\n",
        "d   8.05    False   35     Allen\n",
        "\n",
        "[2 rows x 4 columns]\n"
       ]
      }
     ],
     "prompt_number": 19
    },
    {
     "cell_type": "heading",
     "level": 6,
     "metadata": {},
     "source": [
      "Slicing"
     ]
    },
    {
     "cell_type": "code",
     "collapsed": false,
     "input": [
      "print df\n",
      "\n",
      "print df[0:2]"
     ],
     "language": "python",
     "metadata": {},
     "outputs": [
      {
       "output_type": "stream",
       "stream": "stdout",
       "text": [
        "    Fare Survived  age       name\n",
        "a   7.25    False   22     Braund\n",
        "b  71.83     True   38   Cummings\n",
        "c    NaN     True   26  Heikkinen\n",
        "d   8.05    False   35      Allen\n",
        "\n",
        "[4 rows x 4 columns]\n",
        "    Fare Survived  age      name\n",
        "a   7.25    False   22    Braund\n",
        "b  71.83     True   38  Cummings\n",
        "\n",
        "[2 rows x 4 columns]\n"
       ]
      }
     ],
     "prompt_number": 20
    },
    {
     "cell_type": "heading",
     "level": 6,
     "metadata": {},
     "source": [
      "Boolean Operations"
     ]
    },
    {
     "cell_type": "code",
     "collapsed": false,
     "input": [
      "print df\n",
      "\n",
      "# Multiple selection using & (and)\n",
      "print df[(df.Survived == True) & (df.age > 30)]"
     ],
     "language": "python",
     "metadata": {},
     "outputs": [
      {
       "output_type": "stream",
       "stream": "stdout",
       "text": [
        "    Fare Survived  age       name\n",
        "a   7.25    False   22     Braund\n",
        "b  71.83     True   38   Cummings\n",
        "c    NaN     True   26  Heikkinen\n",
        "d   8.05    False   35      Allen\n",
        "\n",
        "[4 rows x 4 columns]\n",
        "    Fare Survived  age      name\n",
        "b  71.83     True   38  Cummings\n",
        "\n",
        "[1 rows x 4 columns]\n"
       ]
      }
     ],
     "prompt_number": 21
    },
    {
     "cell_type": "markdown",
     "metadata": {},
     "source": [
      "It is possible to perform boolean indexing on specific columns"
     ]
    },
    {
     "cell_type": "markdown",
     "metadata": {},
     "source": [
      "### Pandas Descriptive Functions\n",
      "\n",
      "Pandas also has various functions that help you understand some basic information about your\n",
      "dataframe. Some of this functions are:\n",
      "1. dtypes: to get the data type for each column\n",
      "2. describe: useful for seeing basic statistics of numeric columns in your dataframe\n",
      "3. head: displays the first 5 rows in your dataset\n",
      "4. tail: displays the last 5 rows in your dataset"
     ]
    },
    {
     "cell_type": "code",
     "collapsed": false,
     "input": [
      "print df.dtypes\n",
      "print \"\"\n",
      "print df.describe()"
     ],
     "language": "python",
     "metadata": {},
     "outputs": [
      {
       "output_type": "stream",
       "stream": "stdout",
       "text": [
        "Fare        float64\n",
        "Survived       bool\n",
        "age           int64\n",
        "name         object\n",
        "dtype: object\n",
        "\n",
        "            Fare   Survived    age\n",
        "count   3.000000          4   4.00\n",
        "mean   29.043333        0.5  30.25\n",
        "std    37.056499  0.5773503   7.50\n",
        "min     7.250000      False  22.00\n",
        "25%     7.650000          0  25.00\n",
        "50%     8.050000        0.5  30.50\n",
        "75%    39.940000          1  35.75\n",
        "max    71.830000       True  38.00\n",
        "\n",
        "[8 rows x 3 columns]\n"
       ]
      }
     ],
     "prompt_number": 22
    },
    {
     "cell_type": "markdown",
     "metadata": {},
     "source": [
      "######Pandas Vectorization\n",
      "What does it mean to operate on a dataframe in a vecotired way?"
     ]
    },
    {
     "cell_type": "code",
     "collapsed": false,
     "input": [
      "# First, lets create a dataframe\n",
      "d = {'one': Series([1,2,3], index = ['a','b','c']),\n",
      "     'two': Series([1,2,3,4], index = ['a','b','c','d'])}\n",
      "\n",
      "df = DataFrame(d)\n",
      "\n",
      "print df"
     ],
     "language": "python",
     "metadata": {},
     "outputs": [
      {
       "output_type": "stream",
       "stream": "stdout",
       "text": [
        "   one  two\n",
        "a    1    1\n",
        "b    2    2\n",
        "c    3    3\n",
        "d  NaN    4\n",
        "\n",
        "[4 rows x 2 columns]\n"
       ]
      }
     ],
     "prompt_number": 23
    },
    {
     "cell_type": "code",
     "collapsed": false,
     "input": [
      "# Second, we apply an arbitrary function to all the columns\n",
      "# in the dataframe using pf.apply.\n",
      "# The result itself is a new dataframe\n",
      "\n",
      "# Example: apply numpy.mean to every column (axis = 0 for column operation, axis = 1 for row operation)\n",
      "\n",
      "df.apply(np.mean, axis = 0)\n"
     ],
     "language": "python",
     "metadata": {},
     "outputs": [
      {
       "metadata": {},
       "output_type": "pyout",
       "prompt_number": 24,
       "text": [
        "one    2.0\n",
        "two    2.5\n",
        "dtype: float64"
       ]
      }
     ],
     "prompt_number": 24
    },
    {
     "cell_type": "heading",
     "level": 6,
     "metadata": {},
     "source": [
      "map"
     ]
    },
    {
     "cell_type": "code",
     "collapsed": false,
     "input": [
      "# You can apply map to a column in the dataframe or the entire dataframe.\n",
      "# This functions will allow you to apply functions that take in a single value and returns\n",
      "# a single value\n",
      "\n",
      "# Example\n",
      "print df['one']\n",
      "\n",
      "#Go through every single value in 'One' and applies lambda function\n",
      "print df['one'].map(lambda x: x> 1) \n",
      "\n",
      "# Refresher:\n",
      "# Lambda functions are small inline functions that are \n",
      "# defined on-the-fly in Python. lambda x: x>= 1 will take an input x and return x>=1, \n",
      "# or a boolean that equals True or False.\n",
      "# For more info go to: https://docs.python.org/2/tutorial/controlflow.html#lambda-expressions"
     ],
     "language": "python",
     "metadata": {},
     "outputs": [
      {
       "output_type": "stream",
       "stream": "stdout",
       "text": [
        "a     1\n",
        "b     2\n",
        "c     3\n",
        "d   NaN\n",
        "Name: one, dtype: float64\n",
        "a    False\n",
        "b     True\n",
        "c     True\n",
        "d    False\n",
        "Name: one, dtype: bool\n"
       ]
      }
     ],
     "prompt_number": 25
    },
    {
     "cell_type": "code",
     "collapsed": false,
     "input": [
      "# The function can be applied to all the columns of the dataframe\n",
      "print df\n",
      "print df.applymap(lambda x: x>1)"
     ],
     "language": "python",
     "metadata": {},
     "outputs": [
      {
       "output_type": "stream",
       "stream": "stdout",
       "text": [
        "   one  two\n",
        "a    1    1\n",
        "b    2    2\n",
        "c    3    3\n",
        "d  NaN    4\n",
        "\n",
        "[4 rows x 2 columns]\n",
        "     one    two\n",
        "a  False  False\n",
        "b   True   True\n",
        "c   True   True\n",
        "d  False   True\n",
        "\n",
        "[4 rows x 2 columns]\n"
       ]
      }
     ],
     "prompt_number": 26
    },
    {
     "cell_type": "markdown",
     "metadata": {},
     "source": [
      "**Note**:\n",
      "map() can only be used on a Series to return a new Series and applymap() can only be used on a DataFrame to return a new DataFrame."
     ]
    },
    {
     "cell_type": "heading",
     "level": 3,
     "metadata": {},
     "source": [
      "Exercise #1"
     ]
    },
    {
     "cell_type": "code",
     "collapsed": false,
     "input": [
      "'''\n",
      "Compute the average of bronze medals earned by countries who earned at least one gold medal.\n",
      "Save this to a variable called: avg_bronze_at_least_one_gold\n",
      "\n",
      "HINT-1:\n",
      "    You can retrieve all of the values of a Pandas column from a \n",
      "    data frame, \"df\", as follows:\n",
      "    df['column_name']\n",
      "    \n",
      "    HINT-2:\n",
      "    The numpy.mean function can accept as an argument a single\n",
      "    Pandas column. \n",
      "    \n",
      "    For example, numpy.mean(df[\"col_name\"]) would return the \n",
      "    mean of the values located in \"col_name\" of a dataframe df.\n",
      "'''\n",
      "countries = ['Russian Fed.', 'Norway', 'Canada', 'United States',\n",
      "                 'Netherlands', 'Germany', 'Switzerland', 'Belarus',\n",
      "                 'Austria', 'France', 'Poland', 'China', 'Korea', \n",
      "                 'Sweden', 'Czech Republic', 'Slovenia', 'Japan',\n",
      "                 'Finland', 'Great Britain', 'Ukraine', 'Slovakia',\n",
      "                 'Italy', 'Latvia', 'Australia', 'Croatia', 'Kazakhstan']\n",
      "\n",
      "gold = [13, 11, 10, 9, 8, 8, 6, 5, 4, 4, 4, 3, 3, 2, 2, 2, 1, 1, 1, 1, 1, 0, 0, 0, 0, 0]\n",
      "silver = [11, 5, 10, 7, 7, 6, 3, 0, 8, 4, 1, 4, 3, 7, 4, 2, 4, 3, 1, 0, 0, 2, 2, 2, 1, 0]\n",
      "bronze = [9, 10, 5, 12, 9, 5, 2, 1, 5, 7, 1, 2, 2, 6, 2, 4, 3, 1, 2, 1, 0, 6, 2, 1, 0, 1]\n",
      "    \n",
      "olympic_medal_counts = {'country_name':Series(countries),\n",
      "                            'gold': Series(gold),\n",
      "                            'silver': Series(silver),\n",
      "                            'bronze': Series(bronze)}\n",
      "\n",
      "df = DataFrame(olympic_medal_counts)\n",
      "\n",
      "np.mean(df['bronze'][df['gold']>0])\n",
      "np.mean(df[df['gold']>0]['bronze'])"
     ],
     "language": "python",
     "metadata": {},
     "outputs": [
      {
       "metadata": {},
       "output_type": "pyout",
       "prompt_number": 27,
       "text": [
        "4.2380952380952381"
       ]
      }
     ],
     "prompt_number": 27
    },
    {
     "cell_type": "heading",
     "level": 3,
     "metadata": {},
     "source": [
      "Exercise #2"
     ]
    },
    {
     "cell_type": "markdown",
     "metadata": {},
     "source": [
      "Using the dataframe's apply method, create a new Series called \n",
      "avg_medal_count that indicates the average number of gold, silver,\n",
      "and bronze medals earned amongst countries who earned at \n",
      "least one medal of any kind at the 2014 Sochi olympics."
     ]
    },
    {
     "cell_type": "code",
     "collapsed": false,
     "input": [
      "# Original data frame\n",
      "print df\n"
     ],
     "language": "python",
     "metadata": {},
     "outputs": [
      {
       "output_type": "stream",
       "stream": "stdout",
       "text": [
        "    bronze    country_name  gold  silver\n",
        "0        9    Russian Fed.    13      11\n",
        "1       10          Norway    11       5\n",
        "2        5          Canada    10      10\n",
        "3       12   United States     9       7\n",
        "4        9     Netherlands     8       7\n",
        "5        5         Germany     8       6\n",
        "6        2     Switzerland     6       3\n",
        "7        1         Belarus     5       0\n",
        "8        5         Austria     4       8\n",
        "9        7          France     4       4\n",
        "10       1          Poland     4       1\n",
        "11       2           China     3       4\n",
        "12       2           Korea     3       3\n",
        "13       6          Sweden     2       7\n",
        "14       2  Czech Republic     2       4\n",
        "15       4        Slovenia     2       2\n",
        "16       3           Japan     1       4\n",
        "17       1         Finland     1       3\n",
        "18       2   Great Britain     1       1\n",
        "19       1         Ukraine     1       0\n",
        "20       0        Slovakia     1       0\n",
        "21       6           Italy     0       2\n",
        "22       2          Latvia     0       2\n",
        "23       1       Australia     0       2\n",
        "24       0         Croatia     0       1\n",
        "25       1      Kazakhstan     0       0\n",
        "\n",
        "[26 rows x 4 columns]\n"
       ]
      }
     ],
     "prompt_number": 28
    },
    {
     "cell_type": "code",
     "collapsed": false,
     "input": [
      "# First:  Get subset of dataframe that only contains medal information\n",
      "df1 = df[['gold','silver','bronze']]\n",
      "print df1"
     ],
     "language": "python",
     "metadata": {},
     "outputs": [
      {
       "output_type": "stream",
       "stream": "stdout",
       "text": [
        "    gold  silver  bronze\n",
        "0     13      11       9\n",
        "1     11       5      10\n",
        "2     10      10       5\n",
        "3      9       7      12\n",
        "4      8       7       9\n",
        "5      8       6       5\n",
        "6      6       3       2\n",
        "7      5       0       1\n",
        "8      4       8       5\n",
        "9      4       4       7\n",
        "10     4       1       1\n",
        "11     3       4       2\n",
        "12     3       3       2\n",
        "13     2       7       6\n",
        "14     2       4       2\n",
        "15     2       2       4\n",
        "16     1       4       3\n",
        "17     1       3       1\n",
        "18     1       1       2\n",
        "19     1       0       1\n",
        "20     1       0       0\n",
        "21     0       2       6\n",
        "22     0       2       2\n",
        "23     0       2       1\n",
        "24     0       1       0\n",
        "25     0       0       1\n",
        "\n",
        "[26 rows x 3 columns]\n"
       ]
      }
     ],
     "prompt_number": 29
    },
    {
     "cell_type": "code",
     "collapsed": false,
     "input": [
      "# Second:  Keep rows in which there is at least 1 medal \n",
      "df2 = df1[(df1['gold']>0) | (df1['silver']>0) | (df1['bronze']>0)]  \n",
      "print df2    "
     ],
     "language": "python",
     "metadata": {},
     "outputs": [
      {
       "output_type": "stream",
       "stream": "stdout",
       "text": [
        "    gold  silver  bronze\n",
        "0     13      11       9\n",
        "1     11       5      10\n",
        "2     10      10       5\n",
        "3      9       7      12\n",
        "4      8       7       9\n",
        "5      8       6       5\n",
        "6      6       3       2\n",
        "7      5       0       1\n",
        "8      4       8       5\n",
        "9      4       4       7\n",
        "10     4       1       1\n",
        "11     3       4       2\n",
        "12     3       3       2\n",
        "13     2       7       6\n",
        "14     2       4       2\n",
        "15     2       2       4\n",
        "16     1       4       3\n",
        "17     1       3       1\n",
        "18     1       1       2\n",
        "19     1       0       1\n",
        "20     1       0       0\n",
        "21     0       2       6\n",
        "22     0       2       2\n",
        "23     0       2       1\n",
        "24     0       1       0\n",
        "25     0       0       1\n",
        "\n",
        "[26 rows x 3 columns]\n"
       ]
      }
     ],
     "prompt_number": 30
    },
    {
     "cell_type": "code",
     "collapsed": false,
     "input": [
      "# Third: Get average number of gold, silver, and bronze  \n",
      "avg_medal_count = Series(df2.apply(np.mean))\n",
      "\n",
      "print avg_medal_count"
     ],
     "language": "python",
     "metadata": {},
     "outputs": [
      {
       "output_type": "stream",
       "stream": "stdout",
       "text": [
        "gold      3.807692\n",
        "silver    3.730769\n",
        "bronze    3.807692\n",
        "dtype: float64\n"
       ]
      }
     ],
     "prompt_number": 31
    },
    {
     "cell_type": "heading",
     "level": 3,
     "metadata": {},
     "source": [
      "Exercise #3"
     ]
    },
    {
     "cell_type": "markdown",
     "metadata": {},
     "source": [
      "Imagine a point system in which each country is awarded 4 points for each\n",
      "gold medal,  2 points for each silver medal, and 1 point for each bronze medal.  \n",
      "\n",
      "Using the numpy.dot function, create a new dataframe that includes:\n",
      "        a) a column called 'country_name' with the country name\n",
      "        b) a column called 'points' with the total number of points the country\n",
      "           earned at the Sochi olympics\n"
     ]
    },
    {
     "cell_type": "code",
     "collapsed": false,
     "input": [
      "# Create an array with point system\n",
      "awards = np.array([4,2,1])\n",
      "\n",
      "data = {'country_name':df['country_name'],\n",
      "        'points':Series(df[['gold','silver','bronze']].apply(lambda x:np.dot(awards,x),axis = 1))}\n",
      "\n",
      "newDF = DataFrame(data)\n",
      "print newDF"
     ],
     "language": "python",
     "metadata": {},
     "outputs": [
      {
       "output_type": "stream",
       "stream": "stdout",
       "text": [
        "      country_name  points\n",
        "0     Russian Fed.      83\n",
        "1           Norway      64\n",
        "2           Canada      65\n",
        "3    United States      62\n",
        "4      Netherlands      55\n",
        "5          Germany      49\n",
        "6      Switzerland      32\n",
        "7          Belarus      21\n",
        "8          Austria      37\n",
        "9           France      31\n",
        "10          Poland      19\n",
        "11           China      22\n",
        "12           Korea      20\n",
        "13          Sweden      28\n",
        "14  Czech Republic      18\n",
        "15        Slovenia      16\n",
        "16           Japan      15\n",
        "17         Finland      11\n",
        "18   Great Britain       8\n",
        "19         Ukraine       5\n",
        "20        Slovakia       4\n",
        "21           Italy      10\n",
        "22          Latvia       6\n",
        "23       Australia       5\n",
        "24         Croatia       2\n",
        "25      Kazakhstan       1\n",
        "\n",
        "[26 rows x 2 columns]\n"
       ]
      }
     ],
     "prompt_number": 33
    },
    {
     "cell_type": "code",
     "collapsed": false,
     "input": [
      "dp_function = lambda x:np.dot(awards,x);\n",
      "\n",
      "data = {'country_name':df['country_name'],\n",
      "        'points':Series(df[['gold','silver','bronze']].apply(dp_function,axis = 1))}\n",
      "\n",
      "newDF = DataFrame(data)\n",
      "print newDF"
     ],
     "language": "python",
     "metadata": {},
     "outputs": [
      {
       "output_type": "stream",
       "stream": "stdout",
       "text": [
        "      country_name  points\n",
        "0     Russian Fed.      83\n",
        "1           Norway      64\n",
        "2           Canada      65\n",
        "3    United States      62\n",
        "4      Netherlands      55\n",
        "5          Germany      49\n",
        "6      Switzerland      32\n",
        "7          Belarus      21\n",
        "8          Austria      37\n",
        "9           France      31\n",
        "10          Poland      19\n",
        "11           China      22\n",
        "12           Korea      20\n",
        "13          Sweden      28\n",
        "14  Czech Republic      18\n",
        "15        Slovenia      16\n",
        "16           Japan      15\n",
        "17         Finland      11\n",
        "18   Great Britain       8\n",
        "19         Ukraine       5\n",
        "20        Slovakia       4\n",
        "21           Italy      10\n",
        "22          Latvia       6\n",
        "23       Australia       5\n",
        "24         Croatia       2\n",
        "25      Kazakhstan       1\n",
        "\n",
        "[26 rows x 2 columns]\n"
       ]
      }
     ],
     "prompt_number": 37
    },
    {
     "cell_type": "code",
     "collapsed": false,
     "input": [],
     "language": "python",
     "metadata": {},
     "outputs": [],
     "prompt_number": 32
    },
    {
     "cell_type": "heading",
     "level": 3,
     "metadata": {},
     "source": [
      "References"
     ]
    },
    {
     "cell_type": "markdown",
     "metadata": {},
     "source": [
      "1. Numpy Reference Guide\n",
      "    1. http://docs.scipy.org/doc/numpy/reference/\n",
      "2. Pandas Documentation\n",
      "    1. http://pandas.pydata.org/pandas-docs/stable/\n",
      "3. Pandas tutorial using Ipython notebooks\n",
      "    1. https://bitbucket.org/hrojas/learn-pandas"
     ]
    }
   ],
   "metadata": {}
  }
 ]
}