{
 "metadata": {
  "name": "",
  "signature": "sha256:825e1623f701819cb633ab654a3d763e8090f84985906865c22d5b4e88833fc7"
 },
 "nbformat": 3,
 "nbformat_minor": 0,
 "worksheets": [
  {
   "cells": [
    {
     "cell_type": "markdown",
     "metadata": {},
     "source": [
      "# Assignment 1\n",
      "Part of a data scientist's job is to use her/his intuition and insight to\n",
      "write algorithms and [heuristics](http://en.wikipedia.org/wiki/Heuristic). A data scientist also creates mathematical models to make predictions based on some attributes from the data that they are examining.\n",
      "\n",
      "In this assignment, you will take your knowledge and intuition about the [Titanic](http://en.wikipedia.org/wiki/RMS_Titanic) and its passengers' attributes to predict whether or not a passenger survived or perished (later on in the course we will use machine learning to make predictions). \n"
     ]
    },
    {
     "cell_type": "markdown",
     "metadata": {},
     "source": [
      "# Assignment Details\n",
      "\n",
      "You are given a list of Titantic passengers and their associated information. \n",
      "\n",
      "For this exercise, you need to write a simple heuristic that will use\n",
      "the passengers' gender to predict if that person survived the Titanic disaster.\n",
      "    \n",
      "You prediction should be >= 78% accurate.\n",
      "        \n",
      "Here's a simple heuristic to start off:\n",
      " 1) If the passenger is female, your heuristic should assume that the passenger survived.\n",
      " \n",
      " 2) If the passenger is male, you heuristic should assume that the passenger did not survive.\n",
      " \n",
      "## Data Features:\n",
      "1. survival -> Survival (0 = No; 1 = Yes)\n",
      "2. pclass -> Passenger Class (1 = 1st; 2 = 2nd; 3 = 3rd)\n",
      "3. name -> Name\n",
      "4. sex -> female/male\n",
      "5. age -> passenger name\n",
      "6. sibsp -> Number of Siblings/Spouses Aboard\n",
      "7. parch -> Number of Parents/Children Aboard\n",
      "8. ticket -> Ticket Number\n",
      "9. fare -> Passenger Fare\n",
      "10. cabin -> Cabin\n",
      "11. embarked -> Port of Embarkation (C = Cherbourg; Q = Queenstown; S = Southampton)\n",
      "\n",
      "Data taken from [Kaggle](https://www.kaggle.com/c/titanic-gettingStarted/data)\n",
      "    "
     ]
    },
    {
     "cell_type": "code",
     "collapsed": false,
     "input": [
      "import numpy\n",
      "import pandas\n",
      "\n",
      "'''\n",
      "Goal # 1\n",
      "Write your prediction back into the \"predictions\" dictionary. The\n",
      "key of the dictionary should be the passenger's id (which can be accessed\n",
      "via passenger[\"PassengerId\"]) and the associated value should be 1 if the\n",
      "passenger survied or 0 otherwise.\n",
      "\n",
      "For example, if a passenger is predicted to have survived:\n",
      "passenger_id = passenger['PassengerId']\n",
      "predictions[passenger_id] = 1\n",
      "\n",
      "And if a passenger is predicted to have perished in the disaster:\n",
      "passenger_id = passenger['PassengerId']\n",
      "predictions[passenger_id] = 0\n",
      "\n",
      "Goal # 2 \n",
      "Calculate accuracy of your predictions\n",
      "Accuracy = (TP + TN)/(TP + TN + FP + FN)\n",
      "\n",
      "'''\n",
      "\n",
      "# Read Titanic Data into a Data Frame\n",
      "df = pandas.read_csv('/Users/annette/Desktop/IntroToDataScienceClass/Lesson1/Numpy and Pandas/TitanicData.csv')\n",
      "\n"
     ],
     "language": "python",
     "metadata": {},
     "outputs": [],
     "prompt_number": 1
    },
    {
     "cell_type": "code",
     "collapsed": false,
     "input": [
      "# Goal #1\n",
      "\n",
      "# Store predictions in a dictionary\n",
      "predictions = {}\n",
      "\n",
      "#You can access the gender of a passenger via passenger['Sex'].\n",
      "#If the passenger is male, passenger['Sex'] will return a string \"male\".\n",
      "#If the passenger is female, passenger['Sex'] will return a string \"female\".\n",
      "for passenger_index, passenger in df.iterrows():\n",
      "    passenger_id = passenger['PassengerId']\n",
      "    if(passenger['Sex']=='female'):\n",
      "        predictions[passenger_id] = 1;\n",
      "    else:\n",
      "        predictions[passenger_id] = 0;"
     ],
     "language": "python",
     "metadata": {},
     "outputs": [],
     "prompt_number": 10
    },
    {
     "cell_type": "code",
     "collapsed": false,
     "input": [
      "# Goal 2\n",
      "prediction = 0\n",
      "TP = 0.0\n",
      "TN = 0.0\n",
      "FP = 0.0\n",
      "FN = 0.0\n",
      "\n",
      "for passenger_index, passenger in df.iterrows():\n",
      "    passenger_id = passenger['PassengerId']\n",
      "    \n",
      "    # Implement Heuristic\n",
      "    if passenger['Sex']=='female':\n",
      "        predictions[passenger_id] = 1;\n",
      "        if passenger['Survived']==1:\n",
      "            TP += 1\n",
      "        else:\n",
      "            FP += 1\n",
      "    else:\n",
      "        predictions[passenger_id] = 0;\n",
      "        if passenger['Survived']==0:\n",
      "            TN += 1\n",
      "        else:\n",
      "            FN += 1\n",
      "            \n",
      "accuracy = (TP + TN)/(TP + TN + FP + FN)        \n",
      "        \n",
      "print accuracy * 100            "
     ],
     "language": "python",
     "metadata": {},
     "outputs": [
      {
       "output_type": "stream",
       "stream": "stdout",
       "text": [
        "78.6756453423\n"
       ]
      }
     ],
     "prompt_number": 39
    },
    {
     "cell_type": "code",
     "collapsed": false,
     "input": [
      "# Re-initialize variables\n",
      "TP = 0.0\n",
      "TN = 0.0\n",
      "FP = 0.0\n",
      "FN = 0.0\n",
      "\n",
      "# Loop through dictionary\n",
      "for passengerID,predictionVal in predictions.items():\n",
      "    \n",
      "    # Get value at a specific location\n",
      "    # Find the index for the current passenger and give me \n",
      "    # what is in element 'Survived' for that index.\n",
      "    actual = df.at[df[(df['PassengerId']== passengerID)].index[0],'Survived']\n",
      "    \n",
      "    if actual == 1:\n",
      "        if actual == predictionVal:\n",
      "            TP += 1\n",
      "        else:\n",
      "            FP += 1\n",
      "    else:\n",
      "        if actual == predictionVal:\n",
      "            TN += 1\n",
      "        else:\n",
      "            FN += 1\n",
      "        \n",
      "accuracy = (TP + TN)/(TP + TN + FP + FN)        \n",
      "        \n",
      "print accuracy * 100               "
     ],
     "language": "python",
     "metadata": {},
     "outputs": [
      {
       "output_type": "stream",
       "stream": "stdout",
       "text": [
        "78.6756453423\n"
       ]
      }
     ],
     "prompt_number": 49
    },
    {
     "cell_type": "heading",
     "level": 2,
     "metadata": {},
     "source": [
      "Can you do better?"
     ]
    },
    {
     "cell_type": "code",
     "collapsed": false,
     "input": [],
     "language": "python",
     "metadata": {},
     "outputs": []
    }
   ],
   "metadata": {}
  }
 ]
}