{
 "metadata": {
  "name": "",
  "signature": "sha256:f88edd3017eb73143ef5ea9a414488f4fc139b90054c161b7909b2c85f94cce5"
 },
 "nbformat": 3,
 "nbformat_minor": 0,
 "worksheets": [
  {
   "cells": [
    {
     "cell_type": "markdown",
     "metadata": {},
     "source": [
      "# IPython Notebook\n",
      "IPython notebook is a web-based interactive environment that combines code execution, text, JavaScript/HTML, equations, figures, and videos into a single document.  The notebooks are normal files that can be shared with friends and converted to other formats such as HTML or PDF.\n",
      "\n",
      "IPython notebook is an IPython frontend.  IPython provides extensions to the Python programming language that makes working interactively convenient and efficient.  These extensions are implemented in the IPython Kernel and are available in all of the IPython Frontends (Notebook, Terminal, Console and Qt Console) when running the kernel.\n",
      "\n",
      "# IPython Notebook Components\n",
      "There are two major components to Ipython Notebook:\n",
      "\n",
      "1. A web application: a browser-based tool for interactive authoring of documents which combine explanatory text, mathematics, computations and their rich media output.\n",
      "\n",
      "2. Notebook documents: a representation of all content visible in the web application, including inputs and outputs of the computations, explanatory text, mathematics, images, and rich media representations of objects.  Documents are stored in JSON format.\n",
      "\n",
      "\n",
      "# Installing IPython Notebook\n",
      "If you're using OS X or Windows, it is recommended that you download and install Anaconda, which is a free bundled installer of Python together with many other useful tools (including IPython Notebook.)\n",
      "\n",
      "Anaconda comes with its own version of Python 2.7, IPython Notebook, plus other libraries like matplotlib and a package manager (\"conda\") that you can use to install other packages or other Python versions.\n",
      "\n",
      "https://store.continuum.io/cshop/anaconda/\n",
      "\n",
      "# Launching Ipython Notebook\n",
      "For Mac and Linux users, open up your terminal. Windows users need to open up their Command Prompt. Change directories in the terminal (using the cd command) to the working directory where you want to store your IPython Notebook data. Then type:\n",
      "$ ipython notebook\n",
      "\n",
      "It may take a minute or two to set itself up, but eventually IPython Notebook will open in your default web browser.  If your browser does not launch, you can type the url that is shown after you enter the ipython notebook command.\n"
     ]
    },
    {
     "cell_type": "markdown",
     "metadata": {},
     "source": [
      "# Running Code"
     ]
    },
    {
     "cell_type": "code",
     "collapsed": false,
     "input": [
      "%matplotlib inline\n",
      "import matplotlib.pyplot as plt\n",
      "import numpy as np\n",
      "x = np.linspace(0, 3*np.pi, 500)\n",
      "plt.plot(x, np.sin(x**2))\n",
      "plt.title('A simple chirp');"
     ],
     "language": "python",
     "metadata": {},
     "outputs": []
    },
    {
     "cell_type": "markdown",
     "metadata": {},
     "source": [
      "# Images"
     ]
    },
    {
     "cell_type": "code",
     "collapsed": false,
     "input": [
      "from IPython.display import Image\n",
      "Image(url='http://python.org/images/python-logo.gif')"
     ],
     "language": "python",
     "metadata": {},
     "outputs": []
    },
    {
     "cell_type": "markdown",
     "metadata": {},
     "source": [
      "# Video"
     ]
    },
    {
     "cell_type": "code",
     "collapsed": false,
     "input": [
      "from IPython.display import YouTubeVideo\n",
      "# A talk about IPython at Sage Days at U. Washington, Seattle.\n",
      "# Video credit: William Stein.\n",
      "YouTubeVideo('1j_HxD4iLn8')"
     ],
     "language": "python",
     "metadata": {},
     "outputs": []
    },
    {
     "cell_type": "markdown",
     "metadata": {},
     "source": [
      "# HTML\n",
      "<table>\n",
      "<tr>\n",
      "<th>Header 1</th>\n",
      "<th>Header 2</th>\n",
      "</tr>\n",
      "<tr>\n",
      "<td>row 1, cell 1</td>\n",
      "<td>row 1, cell 2</td>\n",
      "</tr>\n",
      "<tr>\n",
      "<td>row 2, cell 1</td>\n",
      "<td>row 2, cell 2</td>\n",
      "</tr>\n",
      "</table>"
     ]
    },
    {
     "cell_type": "markdown",
     "metadata": {},
     "source": [
      "# External Site"
     ]
    },
    {
     "cell_type": "code",
     "collapsed": false,
     "input": [
      "# Import wikipedia's featured article\n",
      "from IPython.display import HTML\n",
      "HTML('<iframe src=http://en.mobile.wikipedia.org/?useformat=mobile width=700 height=350></iframe>')"
     ],
     "language": "python",
     "metadata": {},
     "outputs": []
    },
    {
     "cell_type": "markdown",
     "metadata": {},
     "source": [
      "# LaTex\n",
      "Ipython notebook supports the display of mathematical expressions typeset in LaTeX, which is rendered in the browser thanks to the [MathJax library](http://mathjax.org).\n",
      "\n",
      "MathJax is an open source JavaScript display engine for mathematics that works in all browsers."
     ]
    },
    {
     "cell_type": "code",
     "collapsed": false,
     "input": [
      "from IPython.display import Math\n",
      "Math(r'F(k) = \\int_{-\\infty}^{\\infty} f(x) e^{2\\pi i k} dx')"
     ],
     "language": "python",
     "metadata": {},
     "outputs": []
    },
    {
     "cell_type": "markdown",
     "metadata": {},
     "source": [
      "##References\n",
      "- IPython \n",
      "    - http://ipython.org/\n",
      "- IPython Notebook\n",
      "    - http://ipython.org/notebook.html"
     ]
    },
    {
     "cell_type": "code",
     "collapsed": false,
     "input": [],
     "language": "python",
     "metadata": {},
     "outputs": []
    }
   ],
   "metadata": {}
  }
 ]
}